{
 "cells": [
  {
   "cell_type": "markdown",
   "metadata": {
    "id": "QYnF_RFLE3X5"
   },
   "source": [
    "[구글 코랩(Colab)에서 실행하기](https://colab.research.google.com/github/lovedlim/bigdata_analyst_cert_v2/blob/main/part4/ch8/p8_type2.ipynb)"
   ]
  },
  {
   "cell_type": "code",
   "execution_count": 1,
   "metadata": {
    "colab": {
     "base_uri": "https://localhost:8080/"
    },
    "executionInfo": {
     "elapsed": 3224,
     "status": "ok",
     "timestamp": 1742183203256,
     "user": {
      "displayName": "Tae Heon Kim",
      "userId": "07653788752262629837"
     },
     "user_tz": -540
    },
    "id": "U_YZY2gvjyvc",
    "outputId": "420f03a4-dc02-4fb7-9391-f4918b7425c8"
   },
   "outputs": [
    {
     "name": "stdout",
     "output_type": "stream",
     "text": [
      "===== 데이터 크기 =====\n",
      "Train Shape: (4116, 19)\n",
      "Test Shape: (1764, 18)\n",
      "\n",
      " ===== 데이터 정보(자료형) =====\n",
      "<class 'pandas.core.frame.DataFrame'>\n",
      "RangeIndex: 4116 entries, 0 to 4115\n",
      "Data columns (total 19 columns):\n",
      " #   Column            Non-Null Count  Dtype  \n",
      "---  ------            --------------  -----  \n",
      " 0   customerID        4116 non-null   object \n",
      " 1   gender            4116 non-null   object \n",
      " 2   SeniorCitizen     4116 non-null   int64  \n",
      " 3   Partner           4116 non-null   object \n",
      " 4   Dependents        4116 non-null   object \n",
      " 5   tenure            4116 non-null   int64  \n",
      " 6   PhoneService      4116 non-null   object \n",
      " 7   MultipleLines     4116 non-null   object \n",
      " 8   InternetService   4116 non-null   object \n",
      " 9   OnlineSecurity    4116 non-null   object \n",
      " 10  OnlineBackup      4116 non-null   object \n",
      " 11  DeviceProtection  4116 non-null   object \n",
      " 12  TechSupport       4116 non-null   object \n",
      " 13  StreamingTV       4116 non-null   object \n",
      " 14  StreamingMovies   4116 non-null   object \n",
      " 15  Contract          4116 non-null   object \n",
      " 16  PaperlessBilling  4116 non-null   object \n",
      " 17  PaymentMethod     4116 non-null   object \n",
      " 18  TotalCharges      4116 non-null   float64\n",
      "dtypes: float64(1), int64(2), object(16)\n",
      "memory usage: 611.1+ KB\n",
      "None\n",
      "\n",
      " ===== train 결측치 수 =====\n",
      "0\n",
      "\n",
      " ===== test 결측치 수 =====\n",
      "0\n",
      "\n",
      " ===== customerID unique 수 =====\n",
      "4116\n",
      "\n",
      " ===== target 기술 통계 =====\n",
      "count    4116.000000\n",
      "mean     2566.580782\n",
      "std      1911.356766\n",
      "min        20.030000\n",
      "25%      1020.922500\n",
      "50%      2144.285000\n",
      "75%      3765.670000\n",
      "max      8589.600000\n",
      "Name: TotalCharges, dtype: float64\n"
     ]
    }
   ],
   "source": [
    "# 문제정의\n",
    "# 평가: MAE\n",
    "# target: TotalCharges\n",
    "# 최종파일: result.csv(컬럼 1개 pred)\n",
    "\n",
    "# 라이브러리 및 데이터 불러오기\n",
    "import pandas as pd\n",
    "\n",
    "# train = pd.read_csv(\"churn_train.csv\")\n",
    "# test = pd.read_csv(\"churn_test.csv\")\n",
    "train = pd.read_csv(\n",
    "    'https://raw.githubusercontent.com/lovedlim/bigdata_analyst_cert/main/part4/ch8/churn_train.csv'\n",
    ")\n",
    "test = pd.read_csv(\n",
    "    'https://raw.githubusercontent.com/lovedlim/bigdata_analyst_cert/main/part4/ch8/churn_test.csv'\n",
    ")\n",
    "\n",
    "# 탐색적 데이터 분석(EDA)\n",
    "print('===== 데이터 크기 =====')\n",
    "print('Train Shape:', train.shape)\n",
    "print('Test Shape:', test.shape)\n",
    "\n",
    "print('\\n ===== 데이터 정보(자료형) =====')\n",
    "print(train.info())\n",
    "\n",
    "print('\\n ===== train 결측치 수 =====')\n",
    "print(train.isnull().sum().sum())\n",
    "\n",
    "print('\\n ===== test 결측치 수 =====')\n",
    "print(test.isnull().sum().sum())\n",
    "\n",
    "print('\\n ===== customerID unique 수 =====')\n",
    "print(train['customerID'].nunique())\n",
    "\n",
    "print('\\n ===== target 기술 통계 =====')\n",
    "print(train['TotalCharges'].describe())"
   ]
  },
  {
   "cell_type": "code",
   "execution_count": 2,
   "metadata": {
    "colab": {
     "base_uri": "https://localhost:8080/"
    },
    "executionInfo": {
     "elapsed": 10944,
     "status": "ok",
     "timestamp": 1742183214203,
     "user": {
      "displayName": "Tae Heon Kim",
      "userId": "07653788752262629837"
     },
     "user_tz": -540
    },
    "id": "-VHVlEn7eZ6j",
    "outputId": "46599b8c-1407-448b-b7d3-9f0e221e7d2e"
   },
   "outputs": [
    {
     "name": "stdout",
     "output_type": "stream",
     "text": [
      "951.0960435538027\n",
      "952.7925407798712\n"
     ]
    }
   ],
   "source": [
    "# 데이터 전처리\n",
    "train = train.drop('customerID', axis=1)\n",
    "test = test.drop(['customerID'], axis=1)\n",
    "target = train.pop('TotalCharges')\n",
    "\n",
    "# 레이블 인코딩\n",
    "from sklearn.preprocessing import LabelEncoder\n",
    "\n",
    "cols = train.select_dtypes(include='O').columns\n",
    "\n",
    "for col in cols:\n",
    "    le = LabelEncoder()\n",
    "    train[col] = le.fit_transform(train[col])\n",
    "    test[col] = le.transform(test[col])\n",
    "\n",
    "# 검증데이터 분리\n",
    "from sklearn.model_selection import train_test_split\n",
    "\n",
    "X_tr, X_val, y_tr, y_val = train_test_split(\n",
    "    train, target, test_size=0.2, random_state=0\n",
    ")\n",
    "\n",
    "# 랜덤포레스트\n",
    "from sklearn.ensemble import RandomForestRegressor\n",
    "\n",
    "rf = RandomForestRegressor(random_state=0)\n",
    "rf.fit(X_tr, y_tr)\n",
    "pred = rf.predict(X_val)\n",
    "\n",
    "# MAE\n",
    "from sklearn.metrics import mean_absolute_error\n",
    "\n",
    "print(mean_absolute_error(y_val, pred))\n",
    "\n",
    "# LightGBM\n",
    "import lightgbm as lgb\n",
    "\n",
    "lg = lgb.LGBMRegressor(random_state=0, verbose=-1)\n",
    "lg.fit(X_tr, y_tr)\n",
    "pred = lg.predict(X_val)\n",
    "print(mean_absolute_error(y_val, pred))\n",
    "\n",
    "# 최종 제출 파일\n",
    "pred = rf.predict(test)\n",
    "result = pd.DataFrame({'pred': pred})\n",
    "result.to_csv('result.csv', index=False)"
   ]
  },
  {
   "cell_type": "code",
   "execution_count": 3,
   "metadata": {
    "colab": {
     "base_uri": "https://localhost:8080/"
    },
    "executionInfo": {
     "elapsed": 15,
     "status": "ok",
     "timestamp": 1742183214221,
     "user": {
      "displayName": "Tae Heon Kim",
      "userId": "07653788752262629837"
     },
     "user_tz": -540
    },
    "id": "gR0wVy3tkIRU",
    "outputId": "b6f97b35-72ad-4a49-9fe9-fc0c980f95b0"
   },
   "outputs": [
    {
     "name": "stdout",
     "output_type": "stream",
     "text": [
      "(1764,)\n",
      "        pred\n",
      "0  3707.6212\n",
      "1   923.7132\n",
      "2  4057.4078\n",
      "3   952.6143\n",
      "4  1322.1638\n"
     ]
    }
   ],
   "source": [
    "# 1. pred 행의 수\n",
    "print(pred.shape)\n",
    "\n",
    "# 2. 생성한 csv 확인\n",
    "print(pd.read_csv('result.csv').head())"
   ]
  },
  {
   "cell_type": "code",
   "execution_count": 3,
   "metadata": {
    "executionInfo": {
     "elapsed": 2,
     "status": "ok",
     "timestamp": 1742183214224,
     "user": {
      "displayName": "Tae Heon Kim",
      "userId": "07653788752262629837"
     },
     "user_tz": -540
    },
    "id": "-JyPFkwlFHzv"
   },
   "outputs": [],
   "source": []
  }
 ],
 "metadata": {
  "colab": {
   "authorship_tag": "ABX9TyPVZjyH07X3mGZ8r5zYT1Vz",
   "provenance": []
  },
  "kernelspec": {
   "display_name": "Python 3",
   "name": "python3"
  },
  "language_info": {
   "name": "python"
  }
 },
 "nbformat": 4,
 "nbformat_minor": 0
}
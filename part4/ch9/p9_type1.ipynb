{
 "cells": [
  {
   "cell_type": "markdown",
   "metadata": {
    "id": "i4nDF8zq7xzD"
   },
   "source": [
    "[구글 코랩(Colab)에서 실행하기](https://colab.research.google.com/github/lovedlim/bigdata_analyst_cert_v2/blob/main/part4/ch9/p9_type1.ipynb)"
   ]
  },
  {
   "cell_type": "markdown",
   "metadata": {
    "id": "f44uCAj5kP5x"
   },
   "source": [
    "## 작업형1"
   ]
  },
  {
   "cell_type": "markdown",
   "metadata": {
    "id": "17QTSTSrkVkh"
   },
   "source": [
    "### 문제1"
   ]
  },
  {
   "cell_type": "markdown",
   "metadata": {
    "id": "xie8SwxAxVkc"
   },
   "source": [
    "### 문제1"
   ]
  },
  {
   "cell_type": "code",
   "execution_count": null,
   "metadata": {
    "colab": {
     "base_uri": "https://localhost:8080/"
    },
    "executionInfo": {
     "elapsed": 14,
     "status": "ok",
     "timestamp": 1741152970119,
     "user": {
      "displayName": "Tae Heon Kim",
      "userId": "07653788752262629837"
     },
     "user_tz": -540
    },
    "id": "6kc7nu96jDxY",
    "outputId": "082d1b0a-3f93-4f00-a2e6-63478ff76723"
   },
   "outputs": [
    {
     "data": {
      "text/plain": [
       "4100000278"
      ]
     },
     "execution_count": 9,
     "metadata": {},
     "output_type": "execute_result"
    }
   ],
   "source": [
    "# 방법1\n",
    "import pandas as pd\n",
    "\n",
    "df = pd.read_csv('loan.csv')\n",
    "# df = pd.read_csv(\"https://raw.githubusercontent.com/lovedlim/bigdata_analyst_cert_v2/main/part4/ch9/loan.csv\")\n",
    "\n",
    "# 1) 총대출액 컬럼 생성\n",
    "df['총대출액'] = df['신용대출'] + df['담보대출']\n",
    "\n",
    "# 2) 지역코드와 성별별로 총대출액 합계 계산\n",
    "grouped = df.groupby(['지역코드', '성별'])['총대출액'].sum().unstack()\n",
    "\n",
    "# 3) 성별 간 총대출액 차이가 가장 큰 지역코드 찾기 (절대값 사용)\n",
    "grouped['차이'] = abs(grouped[1] - grouped[2])\n",
    "result = grouped['차이'].idxmax()\n",
    "result"
   ]
  },
  {
   "cell_type": "code",
   "execution_count": null,
   "metadata": {
    "colab": {
     "base_uri": "https://localhost:8080/"
    },
    "executionInfo": {
     "elapsed": 3,
     "status": "ok",
     "timestamp": 1741152970166,
     "user": {
      "displayName": "Tae Heon Kim",
      "userId": "07653788752262629837"
     },
     "user_tz": -540
    },
    "id": "k3COssXfjjzL",
    "outputId": "f835ff44-c9c0-497c-ac5a-a5431759bf07"
   },
   "outputs": [
    {
     "data": {
      "text/plain": [
       "4100000278"
      ]
     },
     "execution_count": 10,
     "metadata": {},
     "output_type": "execute_result"
    }
   ],
   "source": [
    "# 방법2\n",
    "import pandas as pd\n",
    "\n",
    "df = pd.read_csv('loan.csv')\n",
    "# df = pd.read_csv(\"https://raw.githubusercontent.com/lovedlim/bigdata_analyst_cert_v2/main/part4/ch9/loan.csv\")\n",
    "\n",
    "# 1) 총대출액 컬럼 생성\n",
    "df['총대출액'] = df['신용대출'] + df['담보대출']\n",
    "\n",
    "# 2) 지역코드와 성별별로 총대출액 합계 계산\n",
    "pivot_result = df.pivot_table(\n",
    "    index='지역코드', columns='성별', values='총대출액', aggfunc='sum'\n",
    ")\n",
    "\n",
    "# 3) 성별 간 총대출액 차이가 가장 큰 지역코드 찾기 (절대값 사용)\n",
    "pivot_result['차이'] = abs(pivot_result[1] - pivot_result[2])\n",
    "result = pivot_result['차이'].idxmax()\n",
    "result"
   ]
  },
  {
   "cell_type": "code",
   "execution_count": null,
   "metadata": {
    "id": "jFbId95Nk_b6"
   },
   "outputs": [],
   "source": []
  },
  {
   "cell_type": "markdown",
   "metadata": {
    "id": "a3RXzmgGlD09"
   },
   "source": [
    "### 문제2"
   ]
  },
  {
   "cell_type": "code",
   "execution_count": null,
   "metadata": {
    "colab": {
     "base_uri": "https://localhost:8080/"
    },
    "executionInfo": {
     "elapsed": 11,
     "status": "ok",
     "timestamp": 1741152970177,
     "user": {
      "displayName": "Tae Heon Kim",
      "userId": "07653788752262629837"
     },
     "user_tz": -540
    },
    "id": "WlLdpSkrlPUa",
    "outputId": "195fc344-2fe2-4999-a995-3b91968cd2fc"
   },
   "outputs": [
    {
     "data": {
      "text/plain": [
       "7799"
      ]
     },
     "execution_count": 11,
     "metadata": {},
     "output_type": "execute_result"
    }
   ],
   "source": [
    "# 방법1\n",
    "import pandas as pd\n",
    "\n",
    "df = pd.read_csv('crime.csv')\n",
    "# df = pd.read_csv(\"https://raw.githubusercontent.com/lovedlim/bigdata_analyst_cert_v2/main/part4/ch9/crime.csv\")\n",
    "\n",
    "# 1) \"발생건수\"와 \"검거건수\"를 따로 분리\n",
    "cond1 = df['구분'] == '발생건수'\n",
    "cond2 = df['구분'] == '검거건수'\n",
    "df1 = df[cond1].iloc[:, 2:]  # 발생건수만 가져오기\n",
    "df2 = df[cond2].iloc[:, 2:]  # 검거건수만 가져오기\n",
    "\n",
    "# 2) 검거율 계산 (검거건수 / 발생건수)\n",
    "df1 = df1.reset_index(drop=True)\n",
    "df2 = df2.reset_index(drop=True)\n",
    "df3 = df2 / df1\n",
    "\n",
    "# 3) 각 연도에서 검거율이 가장 높은 범죄유형 찾기\n",
    "listbox = df3.idxmax(axis=1)\n",
    "\n",
    "# 4) 가장 높은 검거율을 기록한 범죄유형의 검거건수 가져오기\n",
    "result = 0\n",
    "for index, item in enumerate(listbox):\n",
    "    result = result + df2.loc[index, item]\n",
    "\n",
    "result"
   ]
  },
  {
   "cell_type": "code",
   "execution_count": null,
   "metadata": {
    "colab": {
     "base_uri": "https://localhost:8080/"
    },
    "executionInfo": {
     "elapsed": 58,
     "status": "ok",
     "timestamp": 1741152970235,
     "user": {
      "displayName": "Tae Heon Kim",
      "userId": "07653788752262629837"
     },
     "user_tz": -540
    },
    "id": "q3KVehb0lXy7",
    "outputId": "6684efb2-298c-43c3-b6a4-db94c7540f51"
   },
   "outputs": [
    {
     "data": {
      "text/plain": [
       "7799.0"
      ]
     },
     "execution_count": 12,
     "metadata": {},
     "output_type": "execute_result"
    }
   ],
   "source": [
    "# 방법2\n",
    "import pandas as pd\n",
    "\n",
    "df = pd.read_csv('crime.csv')\n",
    "# df = pd.read_csv(\"https://raw.githubusercontent.com/lovedlim/bigdata_analyst_cert_v2/main/part4/ch9/crime.csv\")\n",
    "\n",
    "# 1. 데이터를 길게 변환\n",
    "df_long = pd.melt(df, id_vars=['연도', '구분'], var_name='범죄유형', value_name='건수')\n",
    "\n",
    "# 2. 피벗(pivot)하여 발생건수와 검거건수를 한 행에 모으기:\n",
    "df_pivot = df_long.pivot_table(\n",
    "    index=['연도', '범죄유형'], columns='구분', values='건수'\n",
    ").reset_index()\n",
    "\n",
    "# 3. 검거율 계산\n",
    "df_pivot['검거율'] = df_pivot['검거건수'] / df_pivot['발생건수']\n",
    "\n",
    "# 4. 각 연도별로 검거율이 가장 높은 범죄유형 찾기\n",
    "listbox = df_pivot.groupby('연도')['검거율'].idxmax()\n",
    "max_crime = df_pivot.loc[listbox]\n",
    "\n",
    "# 5. 각 연도별 최고 검거율 범죄유형의 검거건수를 모두 합산하기\n",
    "result = max_crime['검거건수'].sum()\n",
    "result"
   ]
  },
  {
   "cell_type": "code",
   "execution_count": null,
   "metadata": {
    "id": "wrVV8qkelaUx"
   },
   "outputs": [],
   "source": []
  },
  {
   "cell_type": "markdown",
   "metadata": {
    "id": "kfi-QOI_y3Un"
   },
   "source": [
    "### 문제3"
   ]
  },
  {
   "cell_type": "code",
   "execution_count": null,
   "metadata": {
    "colab": {
     "base_uri": "https://localhost:8080/"
    },
    "executionInfo": {
     "elapsed": 31,
     "status": "ok",
     "timestamp": 1741152970302,
     "user": {
      "displayName": "Tae Heon Kim",
      "userId": "07653788752262629837"
     },
     "user_tz": -540
    },
    "id": "1EVB4wbmzL9D",
    "outputId": "36a3d16b-f956-4607-8d86-0879de2c428f"
   },
   "outputs": [
    {
     "data": {
      "text/plain": [
       "7.0"
      ]
     },
     "execution_count": 14,
     "metadata": {},
     "output_type": "execute_result"
    }
   ],
   "source": [
    "import pandas as pd\n",
    "\n",
    "df = pd.read_csv('hr.csv')\n",
    "# df = pd.read_csv(\"https://raw.githubusercontent.com/lovedlim/bigdata_analyst_cert_v2/main/part4/ch9/hr.csv\")\n",
    "\n",
    "# 1) 만족도 결측치 처리\n",
    "m = df['만족도'].mean()\n",
    "df['만족도'] = df['만족도'].fillna(m)\n",
    "\n",
    "# 2) 근속연수 결측치 처리 (부서와 성과등급 기준 평균값으로 채움)\n",
    "gm = df.groupby(['부서', '성과등급'])['근속연수'].transform('mean')\n",
    "gm = gm.astype(int)\n",
    "df['근속연수'] = df['근속연수'].fillna(gm)\n",
    "\n",
    "# 3) 연봉 / 근속연수 계산 후 세 번째로 높은 사람의 근속연수 (A)\n",
    "df['연봉_근속연수'] = df['연봉'] / df['근속연수']\n",
    "df_year = df.nlargest(3, '연봉_근속연수')\n",
    "A = df_year.iloc[-1]['근속연수']\n",
    "\n",
    "# 4) 연봉 / 만족도 계산 후 두 번째로 높은 사람의 교육참가횟수 (B)\n",
    "df['연봉_만족도'] = df['연봉'] / df['만족도']\n",
    "df_like = df.nlargest(2, '연봉_만족도')\n",
    "B = df_like.iloc[-1]['교육참가횟수']\n",
    "\n",
    "# 5) 결과 출력\n",
    "result = A + B\n",
    "result"
   ]
  },
  {
   "cell_type": "code",
   "execution_count": null,
   "metadata": {
    "colab": {
     "base_uri": "https://localhost:8080/"
    },
    "executionInfo": {
     "elapsed": 46,
     "status": "ok",
     "timestamp": 1741152970347,
     "user": {
      "displayName": "Tae Heon Kim",
      "userId": "07653788752262629837"
     },
     "user_tz": -540
    },
    "id": "lTmLtN7RzOlH",
    "outputId": "324335f2-bcc5-494c-bb3b-ba59f9f9637a"
   },
   "outputs": [
    {
     "data": {
      "text/plain": [
       "7.0"
      ]
     },
     "execution_count": 15,
     "metadata": {},
     "output_type": "execute_result"
    }
   ],
   "source": [
    "import pandas as pd\n",
    "\n",
    "df = pd.read_csv('hr.csv')\n",
    "# df = pd.read_csv(\"https://raw.githubusercontent.com/lovedlim/bigdata_analyst_cert_v2/main/part4/ch9/hr.csv\")\n",
    "\n",
    "# 1. 만족도 결측치 처리\n",
    "m = df['만족도'].mean()\n",
    "df['만족도'] = df['만족도'].fillna(m)\n",
    "\n",
    "# 2. 근속연수 결측치 처리 (부서와 성과등급 기준 평균값으로 채움)\n",
    "gm = df.groupby(['부서', '성과등급'])['근속연수'].transform('mean')\n",
    "gm = gm.astype(int)\n",
    "df['근속연수'] = df['근속연수'].fillna(gm)\n",
    "\n",
    "# 3. 연봉 / 근속연수 계산 후 세 번째로 높은 사람의 근속연수 (A)\n",
    "df['연봉_근속연수'] = df['연봉'] / df['근속연수']\n",
    "df_year = df.sort_values(by='연봉_근속연수', ascending=False)\n",
    "A = df_year.iloc[2]['근속연수']\n",
    "\n",
    "# 4. 연봉 / 만족도 계산 후 두 번째로 높은 사람의 교육참가횟수 (B)\n",
    "df['연봉_만족도'] = df['연봉'] / df['만족도']\n",
    "df_like = df.sort_values(by='연봉_만족도', ascending=False)\n",
    "B = df_like.iloc[1]['교육참가횟수']\n",
    "\n",
    "# 5. 결과 출력\n",
    "result = A + B\n",
    "result"
   ]
  },
  {
   "cell_type": "code",
   "execution_count": null,
   "metadata": {
    "id": "fZLWT45KzQgw"
   },
   "outputs": [],
   "source": []
  }
 ],
 "metadata": {
  "colab": {
   "authorship_tag": "ABX9TyOAP+TA2UIWALtOMwiWUkuE",
   "provenance": []
  },
  "kernelspec": {
   "display_name": "Python 3",
   "name": "python3"
  },
  "language_info": {
   "name": "python"
  }
 },
 "nbformat": 4,
 "nbformat_minor": 0
}
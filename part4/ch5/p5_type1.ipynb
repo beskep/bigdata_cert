{
 "cells": [
  {
   "cell_type": "markdown",
   "metadata": {
    "id": "p_I02eB4m9z9"
   },
   "source": [
    "[구글 코랩(Colab)에서 실행하기](https://colab.research.google.com/github/lovedlim/bigdata_analyst_cert_v2/blob/main/part4/ch5/p5_type1.ipynb)"
   ]
  },
  {
   "cell_type": "markdown",
   "metadata": {
    "id": "uO07g2QeKprH"
   },
   "source": [
    "## 작업형1"
   ]
  },
  {
   "cell_type": "markdown",
   "metadata": {
    "id": "6f9i0g9dKvQQ"
   },
   "source": [
    "### 문제1"
   ]
  },
  {
   "cell_type": "code",
   "execution_count": 4,
   "metadata": {
    "colab": {
     "base_uri": "https://localhost:8080/"
    },
    "executionInfo": {
     "elapsed": 56,
     "status": "ok",
     "timestamp": 1742182675706,
     "user": {
      "displayName": "Tae Heon Kim",
      "userId": "07653788752262629837"
     },
     "user_tz": -540
    },
    "id": "ShDssNLn6Dw8",
    "outputId": "aa5dc634-7a79-410a-e637-6024ab908f0c"
   },
   "outputs": [
    {
     "name": "stdout",
     "output_type": "stream",
     "text": [
      "118\n"
     ]
    }
   ],
   "source": [
    "import pandas as pd\n",
    "\n",
    "# df = pd.read_csv(\"data5-1.csv\")\n",
    "df = pd.read_csv(\n",
    "    'https://raw.githubusercontent.com/lovedlim/bigdata_analyst_cert/main/part4/ch5/data5-1.csv'\n",
    ")\n",
    "\n",
    "# 1) 조건1.종량제 봉투 종류 ‘규격봉투’\n",
    "cond1 = df['종량제봉투종류'] == '규격봉투'\n",
    "\n",
    "# 2) 조건2.종량제 봉투 용도 ‘음식물쓰레기’\n",
    "cond2 = df['종량제봉투용도'] == '음식물쓰레기'\n",
    "\n",
    "# 3) 조건3. 2l가격이 0이면 제외\n",
    "cond3 = df['2ℓ가격'] != 0\n",
    "\n",
    "# 4) 조건 적용한 데이터\n",
    "df = df[cond1 & cond2 & cond3]\n",
    "\n",
    "# 5) 2l 가격 평균 계산, 반올림, 정수 출력\n",
    "print(round(df['2ℓ가격'].mean()))"
   ]
  },
  {
   "cell_type": "markdown",
   "metadata": {
    "id": "ccvjEw-aKy39"
   },
   "source": [
    "### 문제2"
   ]
  },
  {
   "cell_type": "code",
   "execution_count": 5,
   "metadata": {
    "colab": {
     "base_uri": "https://localhost:8080/"
    },
    "executionInfo": {
     "elapsed": 46,
     "status": "ok",
     "timestamp": 1742182675767,
     "user": {
      "displayName": "Tae Heon Kim",
      "userId": "07653788752262629837"
     },
     "user_tz": -540
    },
    "id": "-3VwHCDKKjRl",
    "outputId": "251bbfcf-10b1-4c91-c345-85c80e15aa5e"
   },
   "outputs": [
    {
     "name": "stdout",
     "output_type": "stream",
     "text": [
      "144\n"
     ]
    }
   ],
   "source": [
    "import pandas as pd\n",
    "\n",
    "# df = pd.read_csv(\"data5-2.csv\")\n",
    "df = pd.read_csv(\n",
    "    'https://raw.githubusercontent.com/lovedlim/bigdata_analyst_cert/main/part4/ch5/data5-2.csv'\n",
    ")\n",
    "\n",
    "# 1) bmi 파생변수 계산\n",
    "df['bmi'] = df['Weight'] / (df['Height'] / 100) ** 2\n",
    "\n",
    "# 2) 조건1. 정상체중 bmi\n",
    "cond1 = (df['bmi'] >= 18.5) & (df['bmi'] < 23)\n",
    "\n",
    "# 3) 조건2. 위험체중 bmi\n",
    "cond2 = (df['bmi'] >= 23) & (df['bmi'] < 25)\n",
    "\n",
    "# 4) 조건1의 인원와 조건2의 인원 차이계산, 절대값 처리\n",
    "print(abs(len(df[cond1]) - len(df[cond2])))"
   ]
  },
  {
   "cell_type": "markdown",
   "metadata": {
    "id": "U2rmG2jaK_v3"
   },
   "source": [
    "### 문제3"
   ]
  },
  {
   "cell_type": "code",
   "execution_count": 6,
   "metadata": {
    "colab": {
     "base_uri": "https://localhost:8080/"
    },
    "executionInfo": {
     "elapsed": 132,
     "status": "ok",
     "timestamp": 1742182675902,
     "user": {
      "displayName": "Tae Heon Kim",
      "userId": "07653788752262629837"
     },
     "user_tz": -540
    },
    "id": "WgzH-3yB6I26",
    "outputId": "6bf5d468-cb0d-424e-ca35-0169efd029da"
   },
   "outputs": [
    {
     "name": "stdout",
     "output_type": "stream",
     "text": [
      "230\n"
     ]
    }
   ],
   "source": [
    "import pandas as pd\n",
    "\n",
    "# df = pd.read_csv(\"data5-3.csv\")\n",
    "df = pd.read_csv(\n",
    "    'https://raw.githubusercontent.com/lovedlim/bigdata_analyst_cert/main/part4/ch5/data5-3.csv'\n",
    ")\n",
    "\n",
    "# 1) '순전입' 파생변수 계산\n",
    "df['순전입'] = df['전입학생수(계)'] - df['전출학생수(계)']\n",
    "\n",
    "# 2) '순전입' 컬럼 기준으로 내림차순 정렬\n",
    "df = df.sort_values('순전입', ascending=False)\n",
    "\n",
    "# 3) 첫번째 행의 전체 학생 수 값 선택\n",
    "print(int(df.iloc[0, -2]))"
   ]
  }
 ],
 "metadata": {
  "colab": {
   "authorship_tag": "ABX9TyNAtbJqj7qHb3QrURrY8Tfy",
   "provenance": []
  },
  "kernelspec": {
   "display_name": "Python 3",
   "name": "python3"
  },
  "language_info": {
   "name": "python"
  }
 },
 "nbformat": 4,
 "nbformat_minor": 0
}
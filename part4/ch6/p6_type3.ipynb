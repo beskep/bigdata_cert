{
 "cells": [
  {
   "cell_type": "markdown",
   "metadata": {
    "id": "6OZW46EDn6tl"
   },
   "source": [
    "[구글 코랩(Colab)에서 실행하기](https://colab.research.google.com/github/lovedlim/bigdata_analyst_cert_v2/blob/main/part4/ch6/p6_type3.ipynb)"
   ]
  },
  {
   "cell_type": "markdown",
   "metadata": {
    "id": "aH-zAFBloETg"
   },
   "source": [
    "## 작업형3"
   ]
  },
  {
   "cell_type": "markdown",
   "metadata": {
    "id": "xcmkuNKkYZyN"
   },
   "source": [
    "### 문제1"
   ]
  },
  {
   "cell_type": "code",
   "execution_count": 14,
   "metadata": {
    "colab": {
     "base_uri": "https://localhost:8080/"
    },
    "executionInfo": {
     "elapsed": 85,
     "status": "ok",
     "timestamp": 1742182952824,
     "user": {
      "displayName": "Tae Heon Kim",
      "userId": "07653788752262629837"
     },
     "user_tz": -540
    },
    "id": "2aa_3YEGOnoq",
    "outputId": "a6a1f872-388b-4f1c-a8e1-69f4a5d5b645"
   },
   "outputs": [
    {
     "name": "stdout",
     "output_type": "stream",
     "text": [
      "   항암약\n",
      "0    4\n",
      "1    4\n",
      "2    3\n"
     ]
    }
   ],
   "source": [
    "import pandas as pd\n",
    "\n",
    "df = pd.DataFrame({\n",
    "    '항암약': [4, 4, 3, 4, 1, 4, 1, 4, 1, 4, 4, 2, 1, 4, 2, 3, 2, 4, 4, 4]\n",
    "})\n",
    "print(df.head(3))"
   ]
  },
  {
   "cell_type": "code",
   "execution_count": 15,
   "metadata": {
    "colab": {
     "base_uri": "https://localhost:8080/"
    },
    "executionInfo": {
     "elapsed": 7,
     "status": "ok",
     "timestamp": 1742182952854,
     "user": {
      "displayName": "Tae Heon Kim",
      "userId": "07653788752262629837"
     },
     "user_tz": -540
    },
    "id": "oxcQ8AZndVzC",
    "outputId": "39faed30-30f0-4d4d-b29d-2a37fdd1636c"
   },
   "outputs": [
    {
     "name": "stdout",
     "output_type": "stream",
     "text": [
      "0.55\n"
     ]
    }
   ],
   "source": [
    "# 1) 이상 없음(4)의 빈도 계산\n",
    "cnt = sum(df['항암약'] == 4)\n",
    "\n",
    "# 2) 항암약을 투여 받은 환자 중 '이상 없음' 비율 계산\n",
    "ratio = cnt / len(df)\n",
    "print(ratio)"
   ]
  },
  {
   "cell_type": "code",
   "execution_count": 16,
   "metadata": {
    "colab": {
     "base_uri": "https://localhost:8080/"
    },
    "executionInfo": {
     "elapsed": 2,
     "status": "ok",
     "timestamp": 1742182952856,
     "user": {
      "displayName": "Tae Heon Kim",
      "userId": "07653788752262629837"
     },
     "user_tz": -540
    },
    "id": "i_iSXeDgkYy7",
    "outputId": "42b50d51-a578-45c3-afa4-da096c085972"
   },
   "outputs": [
    {
     "name": "stdout",
     "output_type": "stream",
     "text": [
      "항암약\n",
      "4    0.55\n",
      "1    0.20\n",
      "2    0.15\n",
      "3    0.10\n",
      "Name: proportion, dtype: float64\n"
     ]
    }
   ],
   "source": [
    "# 1) 카테고리별 비율 계산\n",
    "print(df['항암약'].value_counts(normalize=True))"
   ]
  },
  {
   "cell_type": "code",
   "execution_count": 17,
   "metadata": {
    "colab": {
     "base_uri": "https://localhost:8080/"
    },
    "executionInfo": {
     "elapsed": 2,
     "status": "ok",
     "timestamp": 1742182952858,
     "user": {
      "displayName": "Tae Heon Kim",
      "userId": "07653788752262629837"
     },
     "user_tz": -540
    },
    "id": "cpGaGRyGAZAF",
    "outputId": "18729934-ec50-4782-cf17-5cbcf07f3af9"
   },
   "outputs": [
    {
     "name": "stdout",
     "output_type": "stream",
     "text": [
      "데이터 수:  20\n",
      "[2.0, 1.0, 3.0, 14.0]\n",
      "[2.0, 1.0, 3.0, 14.0]\n"
     ]
    }
   ],
   "source": [
    "from scipy.stats import chisquare\n",
    "\n",
    "# 1) 각 카테고리의 비율을 리스트로 만들기\n",
    "prob = [0.1, 0.05, 0.15, 0.7]\n",
    "\n",
    "# 2-1) 기대 빈도수 계산\n",
    "print('데이터 수: ', len(df))\n",
    "expected_counts = [0.1 * 20, 0.05 * 20, 0.15 * 20, 0.7 * 20]\n",
    "print(expected_counts)\n",
    "\n",
    "# 2-2)기대 빈도수 계산 (다른 방법)\n",
    "expected_counts = [x * len(df) for x in prob]\n",
    "print(expected_counts)"
   ]
  },
  {
   "cell_type": "code",
   "execution_count": 18,
   "metadata": {
    "colab": {
     "base_uri": "https://localhost:8080/"
    },
    "executionInfo": {
     "elapsed": 1,
     "status": "ok",
     "timestamp": 1742182952859,
     "user": {
      "displayName": "Tae Heon Kim",
      "userId": "07653788752262629837"
     },
     "user_tz": -540
    },
    "id": "K0KzbM8ijM4a",
    "outputId": "bc8be98d-a1b8-4b33-f01e-1e1139de9f78"
   },
   "outputs": [
    {
     "name": "stdout",
     "output_type": "stream",
     "text": [
      "[4, 3, 2, 11]\n"
     ]
    }
   ],
   "source": [
    "# 3) 관찰 빈도수 계산\n",
    "observed_counts = df['항암약'].value_counts().sort_index().to_list()\n",
    "print(observed_counts)"
   ]
  },
  {
   "cell_type": "code",
   "execution_count": 19,
   "metadata": {
    "colab": {
     "base_uri": "https://localhost:8080/"
    },
    "executionInfo": {
     "elapsed": 1,
     "status": "ok",
     "timestamp": 1742182952860,
     "user": {
      "displayName": "Tae Heon Kim",
      "userId": "07653788752262629837"
     },
     "user_tz": -540
    },
    "id": "naDXhxrCjPdL",
    "outputId": "ad6d7274-35d4-47ad-d1cd-f0334ecbfa79"
   },
   "outputs": [
    {
     "name": "stdout",
     "output_type": "stream",
     "text": [
      "Power_divergenceResult(statistic=6.976190476190476, pvalue=0.07266054733847573)\n"
     ]
    }
   ],
   "source": [
    "# 4) 카이제곱 검정 수행\n",
    "print(chisquare(f_obs=observed_counts, f_exp=expected_counts))"
   ]
  },
  {
   "cell_type": "code",
   "execution_count": 20,
   "metadata": {
    "colab": {
     "base_uri": "https://localhost:8080/"
    },
    "executionInfo": {
     "elapsed": 1,
     "status": "ok",
     "timestamp": 1742182952861,
     "user": {
      "displayName": "Tae Heon Kim",
      "userId": "07653788752262629837"
     },
     "user_tz": -540
    },
    "id": "NmCzsf-UfZz4",
    "outputId": "30ed8cab-af64-47d2-e9bf-0ed51cecd0ca"
   },
   "outputs": [
    {
     "name": "stdout",
     "output_type": "stream",
     "text": [
      "Power_divergenceResult(statistic=6.976190476190476, pvalue=0.07266054733847573)\n"
     ]
    }
   ],
   "source": [
    "# 참고 - f_obs, f_exp 생략 가능\n",
    "print(chisquare(observed_counts, expected_counts))"
   ]
  },
  {
   "cell_type": "markdown",
   "metadata": {
    "id": "t6IB5WUEq-SI"
   },
   "source": [
    "### 문제2"
   ]
  },
  {
   "cell_type": "code",
   "execution_count": 21,
   "metadata": {
    "colab": {
     "base_uri": "https://localhost:8080/"
    },
    "executionInfo": {
     "elapsed": 360,
     "status": "ok",
     "timestamp": 1742182953221,
     "user": {
      "displayName": "Tae Heon Kim",
      "userId": "07653788752262629837"
     },
     "user_tz": -540
    },
    "id": "Hy0NI7InTB5F",
    "outputId": "40680445-c3bd-47b4-eebd-150290c84783"
   },
   "outputs": [
    {
     "name": "stdout",
     "output_type": "stream",
     "text": [
      "    solar  wind     o3  temperature\n",
      "0   89.14  6.28  33.52         23.0\n",
      "1  109.97  1.04  27.01         20.7\n",
      "2  102.83  6.42  41.00         20.5\n"
     ]
    }
   ],
   "source": [
    "import pandas as pd\n",
    "\n",
    "# df = pd.read_csv(\"data6-3-2.csv\")\n",
    "df = pd.read_csv(\n",
    "    'https://raw.githubusercontent.com/lovedlim/bigdata_analyst_cert/main/part4/ch6/data6-3-2.csv'\n",
    ")\n",
    "\n",
    "print(df.head(3))"
   ]
  },
  {
   "cell_type": "code",
   "execution_count": 22,
   "metadata": {
    "colab": {
     "base_uri": "https://localhost:8080/"
    },
    "executionInfo": {
     "elapsed": 23,
     "status": "ok",
     "timestamp": 1742182953242,
     "user": {
      "displayName": "Tae Heon Kim",
      "userId": "07653788752262629837"
     },
     "user_tz": -540
    },
    "id": "2bjnOPN6gCLw",
    "outputId": "e525ec83-1a60-4a4c-f417-220ea319a623"
   },
   "outputs": [
    {
     "name": "stdout",
     "output_type": "stream",
     "text": [
      "                            OLS Regression Results                            \n",
      "==============================================================================\n",
      "Dep. Variable:            temperature   R-squared:                       0.044\n",
      "Model:                            OLS   Adj. R-squared:                  0.014\n",
      "Method:                 Least Squares   F-statistic:                     1.464\n",
      "Date:                Mon, 17 Mar 2025   Prob (F-statistic):              0.229\n",
      "Time:                        03:42:33   Log-Likelihood:                -195.45\n",
      "No. Observations:                 100   AIC:                             398.9\n",
      "Df Residuals:                      96   BIC:                             409.3\n",
      "Df Model:                           3                                         \n",
      "Covariance Type:            nonrobust                                         \n",
      "==============================================================================\n",
      "                 coef    std err          t      P>|t|      [0.025      0.975]\n",
      "------------------------------------------------------------------------------\n",
      "Intercept     19.0507      1.994      9.555      0.000      15.093      23.008\n",
      "solar          0.0039      0.015      0.251      0.802      -0.027       0.035\n",
      "wind          -0.0252      0.090     -0.280      0.780      -0.204       0.153\n",
      "o3             0.0749      0.036      2.079      0.040       0.003       0.146\n",
      "==============================================================================\n",
      "Omnibus:                        0.654   Durbin-Watson:                   2.328\n",
      "Prob(Omnibus):                  0.721   Jarque-Bera (JB):                0.672\n",
      "Skew:                           0.187   Prob(JB):                        0.715\n",
      "Kurtosis:                       2.855   Cond. No.                     1.20e+03\n",
      "==============================================================================\n",
      "\n",
      "Notes:\n",
      "[1] Standard Errors assume that the covariance matrix of the errors is correctly specified.\n",
      "[2] The condition number is large, 1.2e+03. This might indicate that there are\n",
      "strong multicollinearity or other numerical problems.\n"
     ]
    }
   ],
   "source": [
    "from statsmodels.formula.api import ols\n",
    "\n",
    "# 1) R스타일 formula\n",
    "formula = 'temperature ~ solar + wind + o3'\n",
    "\n",
    "# 2) 회귀 모델 학습\n",
    "model = ols(formula, data=df).fit()\n",
    "\n",
    "# 3) 회귀 모델 요약 정보\n",
    "summary = model.summary()\n",
    "print(summary)"
   ]
  },
  {
   "cell_type": "code",
   "execution_count": 23,
   "metadata": {
    "colab": {
     "base_uri": "https://localhost:8080/"
    },
    "executionInfo": {
     "elapsed": 8,
     "status": "ok",
     "timestamp": 1742182953261,
     "user": {
      "displayName": "Tae Heon Kim",
      "userId": "07653788752262629837"
     },
     "user_tz": -540
    },
    "id": "xELLjouUFXoq",
    "outputId": "c1761b35-bd25-4291-85b8-3ecf35d98ecf"
   },
   "outputs": [
    {
     "name": "stdout",
     "output_type": "stream",
     "text": [
      "2-1. o3의 회귀계수: 0.0749385437813658\n"
     ]
    }
   ],
   "source": [
    "# 2-1. o3에 대한 회귀계수\n",
    "print('2-1. o3의 회귀계수:', model.params['o3'])"
   ]
  },
  {
   "cell_type": "code",
   "execution_count": 24,
   "metadata": {
    "colab": {
     "base_uri": "https://localhost:8080/"
    },
    "executionInfo": {
     "elapsed": 9,
     "status": "ok",
     "timestamp": 1742182953268,
     "user": {
      "displayName": "Tae Heon Kim",
      "userId": "07653788752262629837"
     },
     "user_tz": -540
    },
    "id": "9M316CMLTsjQ",
    "outputId": "5e09483e-29cf-44d0-a5b4-15b9a7d07bbf"
   },
   "outputs": [
    {
     "name": "stdout",
     "output_type": "stream",
     "text": [
      "2-2. wind의 p-value: 0.7797177202071661\n"
     ]
    }
   ],
   "source": [
    "# 2-2. wind에 대한 p-value\n",
    "print('2-2. wind의 p-value:', model.pvalues['wind'])"
   ]
  },
  {
   "cell_type": "code",
   "execution_count": 25,
   "metadata": {
    "colab": {
     "base_uri": "https://localhost:8080/"
    },
    "executionInfo": {
     "elapsed": 51,
     "status": "ok",
     "timestamp": 1742182953320,
     "user": {
      "displayName": "Tae Heon Kim",
      "userId": "07653788752262629837"
     },
     "user_tz": -540
    },
    "id": "RqikMfLeTvYZ",
    "outputId": "4aea2f53-02cf-47d1-819b-c3af532e3772"
   },
   "outputs": [
    {
     "name": "stdout",
     "output_type": "stream",
     "text": [
      "   solar  wind  o3\n",
      "0    100     5  30\n"
     ]
    }
   ],
   "source": [
    "# 2-3. 예측값\n",
    "# 1) 새 데이터를 데이터프레임으로 만들기\n",
    "new_data = pd.DataFrame({'solar': [100], 'wind': [5], 'o3': [30]})\n",
    "print(new_data)"
   ]
  },
  {
   "cell_type": "code",
   "execution_count": 26,
   "metadata": {
    "colab": {
     "base_uri": "https://localhost:8080/"
    },
    "executionInfo": {
     "elapsed": 2,
     "status": "ok",
     "timestamp": 1742182953321,
     "user": {
      "displayName": "Tae Heon Kim",
      "userId": "07653788752262629837"
     },
     "user_tz": -540
    },
    "id": "jGr4psT2ESrc",
    "outputId": "0bafd7f0-bb6c-482b-95e8-0f1dbbcfcb91"
   },
   "outputs": [
    {
     "name": "stdout",
     "output_type": "stream",
     "text": [
      "0    21.56163\n",
      "dtype: float64\n"
     ]
    }
   ],
   "source": [
    "# 2) 구축된 모델을 사용해 예측\n",
    "pred = model.predict(new_data)\n",
    "print(pred)"
   ]
  }
 ],
 "metadata": {
  "colab": {
   "authorship_tag": "ABX9TyN71eU8nuFAB6IvdwrLpaCM",
   "provenance": []
  },
  "kernelspec": {
   "display_name": "Python 3",
   "name": "python3"
  },
  "language_info": {
   "name": "python"
  }
 },
 "nbformat": 4,
 "nbformat_minor": 0
}
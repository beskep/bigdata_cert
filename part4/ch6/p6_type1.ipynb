{
 "cells": [
  {
   "cell_type": "markdown",
   "metadata": {
    "id": "MY9rC_Qhnqkc"
   },
   "source": [
    "[구글 코랩(Colab)에서 실행하기](https://colab.research.google.com/github/lovedlim/bigdata_analyst_cert_v2/blob/main/part4/ch6/p6_type1.ipynb)"
   ]
  },
  {
   "cell_type": "markdown",
   "metadata": {
    "id": "uO07g2QeKprH"
   },
   "source": [
    "## 작업형1"
   ]
  },
  {
   "cell_type": "markdown",
   "metadata": {
    "id": "6f9i0g9dKvQQ"
   },
   "source": [
    "### 문제1"
   ]
  },
  {
   "cell_type": "code",
   "execution_count": 1,
   "metadata": {
    "colab": {
     "base_uri": "https://localhost:8080/"
    },
    "executionInfo": {
     "elapsed": 1758,
     "status": "ok",
     "timestamp": 1742182840753,
     "user": {
      "displayName": "Tae Heon Kim",
      "userId": "07653788752262629837"
     },
     "user_tz": -540
    },
    "id": "ShDssNLn6Dw8",
    "outputId": "f1e1b0d0-6903-4baa-f4a5-dcbdf5a290fa"
   },
   "outputs": [
    {
     "name": "stdout",
     "output_type": "stream",
     "text": [
      "81\n"
     ]
    }
   ],
   "source": [
    "import pandas as pd\n",
    "\n",
    "# df = pd.read_csv(\"data6-1-1.csv\")\n",
    "df = pd.read_csv(\n",
    "    'https://raw.githubusercontent.com/lovedlim/bigdata_analyst_cert/main/part4/ch6/data6-1-1.csv'\n",
    ")\n",
    "\n",
    "# 1) datetime형태로 변경\n",
    "df['도착시간'] = pd.to_datetime(df['도착시간'])\n",
    "df['출동시간'] = pd.to_datetime(df['출동시간'])\n",
    "\n",
    "# 2) 출동시간과 도착시간의 차이를 분으로 계산\n",
    "df['시간차이(분)'] = (df['도착시간'] - df['출동시간']).dt.total_seconds() / 60\n",
    "\n",
    "# 3) 소방서별 평균 시간차이 계산\n",
    "avg_diff = df.groupby('소방서')['시간차이(분)'].mean()\n",
    "\n",
    "# 4) 평균 차이가 가장 큰 소방서의 시간을 찾고 출력\n",
    "idx = avg_diff.idxmax()\n",
    "result = avg_diff[idx]\n",
    "print(round(result))"
   ]
  },
  {
   "cell_type": "code",
   "execution_count": 2,
   "metadata": {
    "colab": {
     "base_uri": "https://localhost:8080/"
    },
    "executionInfo": {
     "elapsed": 15,
     "status": "ok",
     "timestamp": 1742182840770,
     "user": {
      "displayName": "Tae Heon Kim",
      "userId": "07653788752262629837"
     },
     "user_tz": -540
    },
    "id": "J4T5TS-KaMOa",
    "outputId": "dea92eb3-07c2-424d-f992-d658bc4883b4"
   },
   "outputs": [
    {
     "name": "stdout",
     "output_type": "stream",
     "text": [
      "5 분\n",
      "30.0 초\n"
     ]
    }
   ],
   "source": [
    "# 참고 (시간 반올림)\n",
    "min = 5.5\n",
    "print(int(min), '분')\n",
    "print((min - int(min)) * 60, '초')"
   ]
  },
  {
   "cell_type": "markdown",
   "metadata": {
    "id": "ccvjEw-aKy39"
   },
   "source": [
    "### 문제2"
   ]
  },
  {
   "cell_type": "code",
   "execution_count": 3,
   "metadata": {
    "colab": {
     "base_uri": "https://localhost:8080/"
    },
    "executionInfo": {
     "elapsed": 360,
     "status": "ok",
     "timestamp": 1742182841137,
     "user": {
      "displayName": "Tae Heon Kim",
      "userId": "07653788752262629837"
     },
     "user_tz": -540
    },
    "id": "-3VwHCDKKjRl",
    "outputId": "83f0ddf7-6527-4e39-c115-296157a903af"
   },
   "outputs": [
    {
     "name": "stdout",
     "output_type": "stream",
     "text": [
      "19\n"
     ]
    }
   ],
   "source": [
    "import pandas as pd\n",
    "\n",
    "# df = pd.read_csv(\"data6-1-2.csv\")\n",
    "df = pd.read_csv(\n",
    "    'https://raw.githubusercontent.com/lovedlim/bigdata_analyst_cert/main/part4/ch6/data6-1-2.csv'\n",
    ")\n",
    "\n",
    "# 1) 총 학생 수 계산\n",
    "df['총학생수'] = df.iloc[:, 2:].sum(axis=1)\n",
    "\n",
    "# 2) 교사 한 명당 맡은 학생 수\n",
    "df['학생/교사'] = df['총학생수'] / df['교사수']\n",
    "\n",
    "# 3) 학생/교사 최대값의 인덱스명\n",
    "idx = df['학생/교사'].idxmax()\n",
    "\n",
    "# 4) 학생/교사 최대값의 학교 교사 수 출력\n",
    "print(df.loc[idx, '교사수'])"
   ]
  },
  {
   "cell_type": "code",
   "execution_count": 4,
   "metadata": {
    "colab": {
     "base_uri": "https://localhost:8080/"
    },
    "executionInfo": {
     "elapsed": 67,
     "status": "ok",
     "timestamp": 1742182841206,
     "user": {
      "displayName": "Tae Heon Kim",
      "userId": "07653788752262629837"
     },
     "user_tz": -540
    },
    "id": "qk3l6Y6WjwPU",
    "outputId": "f8093987-dc50-47f8-9704-21f4b6d93e48"
   },
   "outputs": [
    {
     "name": "stdout",
     "output_type": "stream",
     "text": [
      "19\n"
     ]
    }
   ],
   "source": [
    "import pandas as pd\n",
    "\n",
    "# df = pd.read_csv(\"data6-1-2.csv\")\n",
    "df = pd.read_csv(\n",
    "    'https://raw.githubusercontent.com/lovedlim/bigdata_analyst_cert/main/part4/ch6/data6-1-2.csv'\n",
    ")\n",
    "\n",
    "# 1) 교사 한 명당 맡은 학생 수\n",
    "df['학생/교사'] = (\n",
    "    df['1학년'] + df['2학년'] + df['3학년'] + df['4학년'] + df['5학년'] + df['6학년']\n",
    ") / df['교사수']\n",
    "\n",
    "# 2) 학생/교사 컬럼을 내림차순으로 정렬\n",
    "df = df.sort_values('학생/교사', ascending=False)\n",
    "\n",
    "# 3) 최상단 행의 교사수 값 출력\n",
    "print(df.iloc[0, 1])"
   ]
  },
  {
   "cell_type": "markdown",
   "metadata": {
    "id": "U2rmG2jaK_v3"
   },
   "source": [
    "### 문제3"
   ]
  },
  {
   "cell_type": "code",
   "execution_count": 5,
   "metadata": {
    "colab": {
     "base_uri": "https://localhost:8080/"
    },
    "executionInfo": {
     "elapsed": 369,
     "status": "ok",
     "timestamp": 1742182841576,
     "user": {
      "displayName": "Tae Heon Kim",
      "userId": "07653788752262629837"
     },
     "user_tz": -540
    },
    "id": "WgzH-3yB6I26",
    "outputId": "5488e68c-bee6-48e8-8625-de569e2b4d98"
   },
   "outputs": [
    {
     "name": "stdout",
     "output_type": "stream",
     "text": [
      "533\n"
     ]
    }
   ],
   "source": [
    "import pandas as pd\n",
    "\n",
    "# df = pd.read_csv(\"data6-1-3.csv\")\n",
    "df = pd.read_csv(\n",
    "    'https://raw.githubusercontent.com/lovedlim/bigdata_analyst_cert/main/part4/ch6/data6-1-3.csv'\n",
    ")\n",
    "\n",
    "# 1) 총 범죄 건수 계산\n",
    "df['총 범죄 건수'] = df.iloc[:, 1:7].sum(axis=1)\n",
    "\n",
    "# 2) 연도 슬라이싱\n",
    "df['연도'] = df['날짜'].str[:4]\n",
    "\n",
    "# 3) 연도별 총 범죄 건수 합 계산\n",
    "result = df['총 범죄 건수'].groupby(df['연도']).sum()\n",
    "\n",
    "# 4) 가장 큰 값의 월 평균 계산\n",
    "print(round(result.max() / 12))"
   ]
  },
  {
   "cell_type": "code",
   "execution_count": 5,
   "metadata": {
    "executionInfo": {
     "elapsed": 14,
     "status": "ok",
     "timestamp": 1742182841591,
     "user": {
      "displayName": "Tae Heon Kim",
      "userId": "07653788752262629837"
     },
     "user_tz": -540
    },
    "id": "61CtkR_Dg1t9"
   },
   "outputs": [],
   "source": []
  }
 ],
 "metadata": {
  "colab": {
   "authorship_tag": "ABX9TyOKO8uqwiXdW+mhwqzt+j7d",
   "provenance": []
  },
  "kernelspec": {
   "display_name": "Python 3",
   "name": "python3"
  },
  "language_info": {
   "name": "python"
  }
 },
 "nbformat": 4,
 "nbformat_minor": 0
}
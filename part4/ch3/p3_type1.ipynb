{
 "cells": [
  {
   "cell_type": "markdown",
   "metadata": {
    "id": "LNmnV8r3xZYl"
   },
   "source": [
    "[구글 코랩(Colab)에서 실행하기](https://colab.research.google.com/github/lovedlim/bigdata_analyst_cert_v2/blob/main/part4/ch3/p3_type1.ipynb)\n"
   ]
  },
  {
   "cell_type": "markdown",
   "metadata": {
    "id": "uO07g2QeKprH"
   },
   "source": [
    "## 작업형1"
   ]
  },
  {
   "cell_type": "markdown",
   "metadata": {
    "id": "6f9i0g9dKvQQ"
   },
   "source": [
    "### 문제1"
   ]
  },
  {
   "cell_type": "code",
   "execution_count": 6,
   "metadata": {
    "colab": {
     "base_uri": "https://localhost:8080/"
    },
    "executionInfo": {
     "elapsed": 208,
     "status": "ok",
     "timestamp": 1742182355580,
     "user": {
      "displayName": "Tae Heon Kim",
      "userId": "07653788752262629837"
     },
     "user_tz": -540
    },
    "id": "ShDssNLn6Dw8",
    "outputId": "5e74a076-4775-4b03-b600-5bb1c98db5ec"
   },
   "outputs": [
    {
     "name": "stdout",
     "output_type": "stream",
     "text": [
      "57\n"
     ]
    }
   ],
   "source": [
    "import pandas as pd\n",
    "\n",
    "# df = pd.read_csv(\"members.csv\")\n",
    "df = pd.read_csv(\n",
    "    'https://raw.githubusercontent.com/lovedlim/bigdata_analyst_cert/main/part4/ch3/members.csv'\n",
    ")\n",
    "\n",
    "# 1) 결측치가 있는 행 제거 (기본값 axis=0)\n",
    "df = df.dropna()\n",
    "\n",
    "# 2) 앞에서부터 70% 데이터 슬라이싱\n",
    "df = df.iloc[: int(len(df) * 0.7)]\n",
    "\n",
    "# 3) 1사분위 값 계산(정수 출력)\n",
    "print(int(df['f1'].quantile(0.25)))"
   ]
  },
  {
   "cell_type": "markdown",
   "metadata": {
    "id": "ccvjEw-aKy39"
   },
   "source": [
    "### 문제2"
   ]
  },
  {
   "cell_type": "code",
   "execution_count": 7,
   "metadata": {
    "colab": {
     "base_uri": "https://localhost:8080/"
    },
    "executionInfo": {
     "elapsed": 187,
     "status": "ok",
     "timestamp": 1742182355724,
     "user": {
      "displayName": "Tae Heon Kim",
      "userId": "07653788752262629837"
     },
     "user_tz": -540
    },
    "id": "-3VwHCDKKjRl",
    "outputId": "93b5b671-f755-43f8-fd08-a4f03bc9f60c"
   },
   "outputs": [
    {
     "name": "stdout",
     "output_type": "stream",
     "text": [
      "100\n"
     ]
    }
   ],
   "source": [
    "# 방법1\n",
    "import pandas as pd\n",
    "\n",
    "# df = pd.read_csv('year.csv', index_col='Unnamed: 0')\n",
    "df = pd.read_csv(\n",
    "    'https://raw.githubusercontent.com/lovedlim/bigdata_analyst_cert/main/part4/ch3/year.csv',\n",
    "    index_col='Unnamed: 0',\n",
    ")\n",
    "\n",
    "# 1) 행을 기준으로 평균을 계산\n",
    "m = df.loc[2000].mean()\n",
    "\n",
    "# 2) 평균보다 큰 값의 합 계산\n",
    "print(sum(df.loc[2000, :] > m))"
   ]
  },
  {
   "cell_type": "code",
   "execution_count": 8,
   "metadata": {
    "colab": {
     "base_uri": "https://localhost:8080/"
    },
    "executionInfo": {
     "elapsed": 127,
     "status": "ok",
     "timestamp": 1742182355852,
     "user": {
      "displayName": "Tae Heon Kim",
      "userId": "07653788752262629837"
     },
     "user_tz": -540
    },
    "id": "iYnbTrVNYbjs",
    "outputId": "bb785895-f513-40fa-d828-965cf087de68"
   },
   "outputs": [
    {
     "name": "stdout",
     "output_type": "stream",
     "text": [
      "100\n"
     ]
    }
   ],
   "source": [
    "# 방법2\n",
    "# df = pd.read_csv('year.csv', index_col='Unnamed: 0')\n",
    "df = pd.read_csv(\n",
    "    'https://raw.githubusercontent.com/lovedlim/bigdata_analyst_cert/main/part4/ch3/year.csv',\n",
    "    index_col='Unnamed: 0',\n",
    ")\n",
    "\n",
    "# 1) 행과 열을 변경함\n",
    "df = df.T\n",
    "\n",
    "# 2) 평균 계산\n",
    "m = df[2000].mean()\n",
    "\n",
    "# 3) 평균보다 큰 값의 합 계산\n",
    "print(sum(df[2000] > m))"
   ]
  },
  {
   "cell_type": "markdown",
   "metadata": {
    "id": "U2rmG2jaK_v3"
   },
   "source": [
    "### 문제3"
   ]
  },
  {
   "cell_type": "code",
   "execution_count": 9,
   "metadata": {
    "colab": {
     "base_uri": "https://localhost:8080/"
    },
    "executionInfo": {
     "elapsed": 169,
     "status": "ok",
     "timestamp": 1742182356024,
     "user": {
      "displayName": "Tae Heon Kim",
      "userId": "07653788752262629837"
     },
     "user_tz": -540
    },
    "id": "WgzH-3yB6I26",
    "outputId": "2158dedc-7caa-436d-f7d0-244b315899aa"
   },
   "outputs": [
    {
     "name": "stdout",
     "output_type": "stream",
     "text": [
      "f1\n"
     ]
    }
   ],
   "source": [
    "# 방법1\n",
    "import pandas as pd\n",
    "\n",
    "# df = pd.read_csv(\"members.csv\")\n",
    "df = pd.read_csv(\n",
    "    'https://raw.githubusercontent.com/lovedlim/bigdata_analyst_cert/main/part4/ch3/members.csv'\n",
    ")\n",
    "\n",
    "# 1) 결측치 수 컬럼별로 확인 및 변수에 대입(시리즈)\n",
    "df_cntNull = df.isnull().sum()\n",
    "\n",
    "# 2) 내림차순 정렬\n",
    "df_cntNull = df_cntNull.sort_values(ascending=False)\n",
    "\n",
    "# 3) 가장 상위에 있는 인덱스명 출력\n",
    "print(df_cntNull.index[0])"
   ]
  },
  {
   "cell_type": "code",
   "execution_count": 10,
   "metadata": {
    "colab": {
     "base_uri": "https://localhost:8080/"
    },
    "executionInfo": {
     "elapsed": 179,
     "status": "ok",
     "timestamp": 1742182356206,
     "user": {
      "displayName": "Tae Heon Kim",
      "userId": "07653788752262629837"
     },
     "user_tz": -540
    },
    "id": "L9JYUM9N9u_z",
    "outputId": "d0588bf8-86a8-4a84-b28b-27f037dd6238"
   },
   "outputs": [
    {
     "name": "stdout",
     "output_type": "stream",
     "text": [
      "f1\n"
     ]
    }
   ],
   "source": [
    "# 방법2\n",
    "# df = pd.read_csv(\"members.csv\")\n",
    "df = pd.read_csv(\n",
    "    'https://raw.githubusercontent.com/lovedlim/bigdata_analyst_cert/main/part4/ch3/members.csv'\n",
    ")\n",
    "\n",
    "# 1) 결측치 수 컬럼별로 확인 및 변수에 대입(시리즈)\n",
    "df_cntNull = df.isnull().sum()\n",
    "\n",
    "# 2) 인덱스 리셋를 활용해 기존 인덱스는 새로운 컬럼으로 변경)\n",
    "df_cntNull = df_cntNull.reset_index()\n",
    "\n",
    "# 3) 출력하고자하는 값을 찾아 출력\n",
    "print(df_cntNull.loc[3, 'index'])"
   ]
  }
 ],
 "metadata": {
  "colab": {
   "authorship_tag": "ABX9TyN9AxCNaUVK6sAuZXp3jRXi",
   "provenance": []
  },
  "kernelspec": {
   "display_name": "Python 3",
   "name": "python3"
  },
  "language_info": {
   "name": "python"
  }
 },
 "nbformat": 4,
 "nbformat_minor": 0
}
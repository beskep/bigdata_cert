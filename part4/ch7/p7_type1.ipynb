{
 "cells": [
  {
   "cell_type": "markdown",
   "metadata": {
    "id": "zNG24pNSof-O"
   },
   "source": [
    "[구글 코랩(Colab)에서 실행하기](https://colab.research.google.com/github/lovedlim/bigdata_analyst_cert_v2/blob/main/part4/ch7/p7_type1.ipynb)"
   ]
  },
  {
   "cell_type": "markdown",
   "metadata": {
    "id": "ImS-bayEojdA"
   },
   "source": [
    "## 작업형1"
   ]
  },
  {
   "cell_type": "markdown",
   "metadata": {
    "id": "JO-2zLFZsse1"
   },
   "source": [
    "### 문제1"
   ]
  },
  {
   "cell_type": "code",
   "execution_count": 1,
   "metadata": {
    "colab": {
     "base_uri": "https://localhost:8080/"
    },
    "executionInfo": {
     "elapsed": 4640,
     "status": "ok",
     "timestamp": 1742183003981,
     "user": {
      "displayName": "Tae Heon Kim",
      "userId": "07653788752262629837"
     },
     "user_tz": -540
    },
    "id": "QfWBB-yjCuX8",
    "outputId": "9f5a09d8-99a7-416d-9053-67deeef17dbe"
   },
   "outputs": [
    {
     "name": "stdout",
     "output_type": "stream",
     "text": [
      "2.183\n"
     ]
    }
   ],
   "source": [
    "import pandas as pd\n",
    "\n",
    "# df = pd.read_csv(\"student_assessment.csv\")\n",
    "df = pd.read_csv(\n",
    "    'https://raw.githubusercontent.com/lovedlim/bigdata_analyst_cert/main/part4/ch7/student_assessment.csv'\n",
    ")\n",
    "\n",
    "# 1) 결측치 제거\n",
    "# print(df.shape)\n",
    "df = df.dropna()\n",
    "# print(df.shape)\n",
    "\n",
    "# 2) 가장 많이 수강한 과목 필터링\n",
    "id = df['id_assessment'].value_counts().idxmax()\n",
    "cond = df['id_assessment'] == id\n",
    "df = df[cond]\n",
    "\n",
    "# 3) 과목 점수 스탠다드 스케일\n",
    "from sklearn.preprocessing import StandardScaler\n",
    "\n",
    "scaler = StandardScaler()\n",
    "df['score'] = scaler.fit_transform(df[['score']])\n",
    "\n",
    "# 4) 가장 큰 값\n",
    "print(round(df['score'].max(), 3))"
   ]
  },
  {
   "cell_type": "markdown",
   "metadata": {
    "id": "sHC4blpRswAJ"
   },
   "source": [
    "### 문제2"
   ]
  },
  {
   "cell_type": "code",
   "execution_count": 2,
   "metadata": {
    "colab": {
     "base_uri": "https://localhost:8080/"
    },
    "executionInfo": {
     "elapsed": 1299,
     "status": "ok",
     "timestamp": 1742183005294,
     "user": {
      "displayName": "Tae Heon Kim",
      "userId": "07653788752262629837"
     },
     "user_tz": -540
    },
    "id": "usqyPcI4J0eL",
    "outputId": "1e296b48-be2f-42f9-fffa-f1aadf1ded66"
   },
   "outputs": [
    {
     "name": "stdout",
     "output_type": "stream",
     "text": [
      "-0.0004\n"
     ]
    }
   ],
   "source": [
    "import pandas as pd\n",
    "\n",
    "# df = pd.read_csv(\"stock_market.csv\")\n",
    "df = pd.read_csv(\n",
    "    'https://raw.githubusercontent.com/lovedlim/bigdata_analyst_cert/main/part4/ch7/stock_market.csv'\n",
    ")\n",
    "\n",
    "# 1) close와의 상관관계(절대값)\n",
    "df_corr = df.corr()['close'].abs()\n",
    "\n",
    "# 2) 상관관계가 높은 변수명\n",
    "col = df_corr.loc['DE1':'DE77'].idxmax()\n",
    "\n",
    "# 3) '2)'에서 구한 변수명의 평균값\n",
    "print(round(df[col].mean(), 4))"
   ]
  },
  {
   "cell_type": "markdown",
   "metadata": {
    "id": "E9QDz8l-sy4D"
   },
   "source": [
    "### 문제3"
   ]
  },
  {
   "cell_type": "code",
   "execution_count": 3,
   "metadata": {
    "colab": {
     "base_uri": "https://localhost:8080/"
    },
    "executionInfo": {
     "elapsed": 1054,
     "status": "ok",
     "timestamp": 1742183006345,
     "user": {
      "displayName": "Tae Heon Kim",
      "userId": "07653788752262629837"
     },
     "user_tz": -540
    },
    "id": "LipHWwikUBL-",
    "outputId": "6f00d56e-a69e-467a-bea0-ef3aa721f28a"
   },
   "outputs": [
    {
     "name": "stdout",
     "output_type": "stream",
     "text": [
      "304\n"
     ]
    }
   ],
   "source": [
    "import pandas as pd\n",
    "\n",
    "# df = pd.read_csv(\"air_quality.csv\")\n",
    "df = pd.read_csv(\n",
    "    'https://raw.githubusercontent.com/lovedlim/bigdata_analyst_cert/main/part4/ch7/air_quality.csv'\n",
    ")\n",
    "\n",
    "# 1) IQR 계산\n",
    "Q1 = df['CO2'].quantile(0.25)\n",
    "Q3 = df['CO2'].quantile(0.75)\n",
    "IQR = Q3 - Q1\n",
    "\n",
    "# 2) 상한 및 하한 계산\n",
    "upper = Q3 + 1.5 * IQR\n",
    "lower = Q1 - 1.5 * IQR\n",
    "\n",
    "# 3) 이상치 식별\n",
    "outliers = df[(df['CO2'] < lower) | (df['CO2'] > upper)]\n",
    "\n",
    "# 4) 이상치 수\n",
    "print(len(outliers))"
   ]
  }
 ],
 "metadata": {
  "colab": {
   "authorship_tag": "ABX9TyPXKWqYBn9bFq5lybsuj/pt",
   "provenance": []
  },
  "kernelspec": {
   "display_name": "Python 3",
   "name": "python3"
  },
  "language_info": {
   "name": "python"
  }
 },
 "nbformat": 4,
 "nbformat_minor": 0
}
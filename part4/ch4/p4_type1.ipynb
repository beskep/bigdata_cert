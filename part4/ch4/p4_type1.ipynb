{
 "cells": [
  {
   "cell_type": "markdown",
   "metadata": {
    "id": "LPh19ptmmhPP"
   },
   "source": [
    "[구글 코랩(Colab)에서 실행하기](https://colab.research.google.com/github/lovedlim/bigdata_analyst_cert_v2/blob/main/part4/ch4/p4_type1.ipynb)"
   ]
  },
  {
   "cell_type": "markdown",
   "metadata": {
    "id": "uO07g2QeKprH"
   },
   "source": [
    "## 작업형1"
   ]
  },
  {
   "cell_type": "markdown",
   "metadata": {
    "id": "6f9i0g9dKvQQ"
   },
   "source": [
    "### 문제1"
   ]
  },
  {
   "cell_type": "code",
   "execution_count": 1,
   "metadata": {
    "colab": {
     "base_uri": "https://localhost:8080/"
    },
    "executionInfo": {
     "elapsed": 1697,
     "status": "ok",
     "timestamp": 1742182522773,
     "user": {
      "displayName": "Tae Heon Kim",
      "userId": "07653788752262629837"
     },
     "user_tz": -540
    },
    "id": "ShDssNLn6Dw8",
    "outputId": "c9a00529-d55a-4fe9-ebfe-39cd0236da1b"
   },
   "outputs": [
    {
     "name": "stdout",
     "output_type": "stream",
     "text": [
      "50\n"
     ]
    }
   ],
   "source": [
    "import pandas as pd\n",
    "\n",
    "# df = pd.read_csv(\"data4-1.csv\")\n",
    "df = pd.read_csv(\n",
    "    'https://raw.githubusercontent.com/lovedlim/bigdata_analyst_cert/main/part4/ch4/data4-1.csv'\n",
    ")\n",
    "\n",
    "# 1) 3사분위수와 1사분위수의 차이를 절대값으로 계산\n",
    "q1 = df['age'].quantile(0.25)\n",
    "q3 = df['age'].quantile(0.75)\n",
    "result = abs(q1 - q3)\n",
    "\n",
    "# 2) 소수점 이하를 버리고, 정수로 출력\n",
    "print(int(result))"
   ]
  },
  {
   "cell_type": "markdown",
   "metadata": {
    "id": "ccvjEw-aKy39"
   },
   "source": [
    "### 문제2"
   ]
  },
  {
   "cell_type": "code",
   "execution_count": 2,
   "metadata": {
    "colab": {
     "base_uri": "https://localhost:8080/"
    },
    "executionInfo": {
     "elapsed": 616,
     "status": "ok",
     "timestamp": 1742182523392,
     "user": {
      "displayName": "Tae Heon Kim",
      "userId": "07653788752262629837"
     },
     "user_tz": -540
    },
    "id": "-3VwHCDKKjRl",
    "outputId": "609ee523-775c-4a20-e7db-0a65c09b1bb2"
   },
   "outputs": [
    {
     "name": "stdout",
     "output_type": "stream",
     "text": [
      "90\n"
     ]
    }
   ],
   "source": [
    "import pandas as pd\n",
    "\n",
    "# df = pd.read_csv(\"data4-2.csv\")\n",
    "df = pd.read_csv(\n",
    "    'https://raw.githubusercontent.com/lovedlim/bigdata_analyst_cert/main/part4/ch4/data4-2.csv'\n",
    ")\n",
    "\n",
    "# 1) 비율이 40%보다 크고 50%보다 작은 조건\n",
    "cond1 = (df['loves'] + df['wows']) / df['reactions'] > 0.4\n",
    "cond2 = (df['loves'] + df['wows']) / df['reactions'] < 0.5\n",
    "\n",
    "# 2) type이 video인 조건\n",
    "cond3 = df['type'] == 'video'\n",
    "\n",
    "# 3) 조건에 맞는 데이터 수 구하기\n",
    "print(len(df[cond1 & cond2 & cond3]))"
   ]
  },
  {
   "cell_type": "markdown",
   "metadata": {
    "id": "U2rmG2jaK_v3"
   },
   "source": [
    "### 문제3"
   ]
  },
  {
   "cell_type": "code",
   "execution_count": 3,
   "metadata": {
    "colab": {
     "base_uri": "https://localhost:8080/"
    },
    "executionInfo": {
     "elapsed": 993,
     "status": "ok",
     "timestamp": 1742182524383,
     "user": {
      "displayName": "Tae Heon Kim",
      "userId": "07653788752262629837"
     },
     "user_tz": -540
    },
    "id": "WgzH-3yB6I26",
    "outputId": "7fbf198c-70fe-466c-e502-0b2772ea1f95"
   },
   "outputs": [
    {
     "name": "stdout",
     "output_type": "stream",
     "text": [
      "6\n"
     ]
    }
   ],
   "source": [
    "# 방법1\n",
    "import pandas as pd\n",
    "\n",
    "# df = pd.read_csv(\"data4-3.csv\")\n",
    "df = pd.read_csv(\n",
    "    'https://raw.githubusercontent.com/lovedlim/bigdata_analyst_cert/main/part4/ch4/data4-3.csv'\n",
    ")\n",
    "\n",
    "# 1) datetime으로 형변환\n",
    "df['date_added'] = pd.to_datetime(df['date_added'])\n",
    "\n",
    "# 2) dt를 활용해 year과 month 파생변수 생성\n",
    "df['year'] = df['date_added'].dt.year\n",
    "df['month'] = df['date_added'].dt.month\n",
    "\n",
    "# 3) 조건\n",
    "cond1 = df['country'] == 'United Kingdom'\n",
    "cond2 = df['year'] == 2018\n",
    "cond3 = df['month'] == 1\n",
    "\n",
    "# 4) 조건에 맞는 데이터 수 출력\n",
    "print(len(df[cond1 & cond2 & cond3]))"
   ]
  },
  {
   "cell_type": "code",
   "execution_count": 4,
   "metadata": {
    "colab": {
     "base_uri": "https://localhost:8080/"
    },
    "executionInfo": {
     "elapsed": 502,
     "status": "ok",
     "timestamp": 1742182524891,
     "user": {
      "displayName": "Tae Heon Kim",
      "userId": "07653788752262629837"
     },
     "user_tz": -540
    },
    "id": "L9JYUM9N9u_z",
    "outputId": "c7c5f328-30a7-42d3-c874-8676f64d603a"
   },
   "outputs": [
    {
     "name": "stdout",
     "output_type": "stream",
     "text": [
      "6\n"
     ]
    }
   ],
   "source": [
    "# 방법2\n",
    "# df = pd.read_csv(\"data4-3.csv\")\n",
    "df = pd.read_csv(\n",
    "    'https://raw.githubusercontent.com/lovedlim/bigdata_analyst_cert/main/part4/ch4/data4-3.csv'\n",
    ")\n",
    "\n",
    "# 1) datetime으로 형변환\n",
    "df['date_added'] = pd.to_datetime(df['date_added'])\n",
    "\n",
    "# 2) 조건\n",
    "cond1 = df['country'] == 'United Kingdom'\n",
    "cond2 = df['date_added'] >= '2018-1-1'\n",
    "cond3 = df['date_added'] <= '2018-1-31'\n",
    "\n",
    "# 3) 조건에 맞는 데이터 수 출력\n",
    "print(len(df[cond1 & cond2 & cond3]))"
   ]
  }
 ],
 "metadata": {
  "colab": {
   "authorship_tag": "ABX9TyPPJgsRh1LIcEu9XvueFU80",
   "provenance": []
  },
  "kernelspec": {
   "display_name": "Python 3",
   "name": "python3"
  },
  "language_info": {
   "name": "python"
  }
 },
 "nbformat": 4,
 "nbformat_minor": 0
}
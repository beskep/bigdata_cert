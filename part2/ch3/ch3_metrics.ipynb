{
 "cells": [
  {
   "cell_type": "markdown",
   "metadata": {
    "id": "zpGaMMdZUki7"
   },
   "source": [
    "[구글 코랩(Colab)에서 실행하기](https://colab.research.google.com/github/lovedlim/bigdata_analyst_cert_v2/blob/main/part2/ch3/ch3_metrics.ipynb)"
   ]
  },
  {
   "cell_type": "markdown",
   "metadata": {
    "id": "xkQxClqpjqya"
   },
   "source": [
    "## 이진분류 평가지표"
   ]
  },
  {
   "cell_type": "code",
   "execution_count": 1,
   "metadata": {
    "executionInfo": {
     "elapsed": 1186,
     "status": "ok",
     "timestamp": 1742176864414,
     "user": {
      "displayName": "Tae Heon Kim",
      "userId": "07653788752262629837"
     },
     "user_tz": -540
    },
    "id": "qVxYWt82irzy"
   },
   "outputs": [],
   "source": [
    "# 이진분류 데이터\n",
    "import pandas as pd\n",
    "\n",
    "y_true = pd.DataFrame([1, 1, 1, 0, 0, 1, 1, 1, 1, 0])  # 실제값\n",
    "y_pred = pd.DataFrame([1, 0, 1, 1, 0, 0, 0, 1, 1, 0])  # 예측값\n",
    "\n",
    "y_true_str = pd.DataFrame(['A', 'A', 'A', 'B', 'B', 'A', 'A', 'A', 'A', 'B'])  # 실제값\n",
    "y_pred_str = pd.DataFrame(['A', 'B', 'A', 'A', 'B', 'B', 'B', 'A', 'A', 'B'])  # 예측값"
   ]
  },
  {
   "cell_type": "code",
   "execution_count": 2,
   "metadata": {
    "colab": {
     "base_uri": "https://localhost:8080/"
    },
    "executionInfo": {
     "elapsed": 3041,
     "status": "ok",
     "timestamp": 1742176867456,
     "user": {
      "displayName": "Tae Heon Kim",
      "userId": "07653788752262629837"
     },
     "user_tz": -540
    },
    "id": "pvCf5mUdihRO",
    "outputId": "131ed957-a039-47c5-c0aa-f4dc88e756f7"
   },
   "outputs": [
    {
     "name": "stdout",
     "output_type": "stream",
     "text": [
      "정확도: 0.6\n",
      "정확도: 0.6\n"
     ]
    }
   ],
   "source": [
    "# 정확도(Accuracy)\n",
    "from sklearn.metrics import accuracy_score\n",
    "\n",
    "accuracy = accuracy_score(y_true, y_pred)\n",
    "print('정확도:', accuracy)\n",
    "\n",
    "accuracy = accuracy_score(y_true_str, y_pred_str)\n",
    "print('정확도:', accuracy)"
   ]
  },
  {
   "cell_type": "code",
   "execution_count": 3,
   "metadata": {
    "colab": {
     "base_uri": "https://localhost:8080/"
    },
    "executionInfo": {
     "elapsed": 143,
     "status": "ok",
     "timestamp": 1742176867600,
     "user": {
      "displayName": "Tae Heon Kim",
      "userId": "07653788752262629837"
     },
     "user_tz": -540
    },
    "id": "kYd9ae01jPb4",
    "outputId": "909e585c-be19-4536-a690-f91fcce138c3"
   },
   "outputs": [
    {
     "name": "stdout",
     "output_type": "stream",
     "text": [
      "정밀도: 0.8\n",
      "정밀도: 0.8\n"
     ]
    }
   ],
   "source": [
    "# 정밀도(Precision)\n",
    "from sklearn.metrics import precision_score\n",
    "\n",
    "precision = precision_score(y_true, y_pred)\n",
    "print('정밀도:', precision)\n",
    "\n",
    "precision = precision_score(y_true_str, y_pred_str, pos_label='A')\n",
    "print('정밀도:', precision)"
   ]
  },
  {
   "cell_type": "code",
   "execution_count": 4,
   "metadata": {
    "colab": {
     "base_uri": "https://localhost:8080/"
    },
    "executionInfo": {
     "elapsed": 163,
     "status": "ok",
     "timestamp": 1742176867785,
     "user": {
      "displayName": "Tae Heon Kim",
      "userId": "07653788752262629837"
     },
     "user_tz": -540
    },
    "id": "_m3LRdF7jPgD",
    "outputId": "318647f6-ff70-4d9a-9cda-a8652d25328d"
   },
   "outputs": [
    {
     "name": "stdout",
     "output_type": "stream",
     "text": [
      "재현율: 0.5714285714285714\n",
      "재현율: 0.5714285714285714\n"
     ]
    }
   ],
   "source": [
    "# 재현율(Recall)\n",
    "from sklearn.metrics import recall_score\n",
    "\n",
    "recall = recall_score(y_true, y_pred)\n",
    "print('재현율:', recall)\n",
    "\n",
    "recall = recall_score(y_true_str, y_pred_str, pos_label='A')\n",
    "print('재현율:', recall)"
   ]
  },
  {
   "cell_type": "code",
   "execution_count": 5,
   "metadata": {
    "colab": {
     "base_uri": "https://localhost:8080/"
    },
    "executionInfo": {
     "elapsed": 95,
     "status": "ok",
     "timestamp": 1742176867878,
     "user": {
      "displayName": "Tae Heon Kim",
      "userId": "07653788752262629837"
     },
     "user_tz": -540
    },
    "id": "nhbdwRnWjPil",
    "outputId": "2db316c0-fd76-4e1a-d9a3-37dee1ad7981"
   },
   "outputs": [
    {
     "name": "stdout",
     "output_type": "stream",
     "text": [
      "F1 스코어: 0.6666666666666666\n",
      "F1 스코어: 0.6666666666666666\n"
     ]
    }
   ],
   "source": [
    "# F1 스코어(F1 Score)\n",
    "from sklearn.metrics import f1_score\n",
    "\n",
    "f1 = f1_score(y_true, y_pred)\n",
    "print('F1 스코어:', f1)\n",
    "\n",
    "f1 = f1_score(y_true_str, y_pred_str, pos_label='A')\n",
    "print('F1 스코어:', f1)"
   ]
  },
  {
   "cell_type": "code",
   "execution_count": 6,
   "metadata": {
    "colab": {
     "base_uri": "https://localhost:8080/"
    },
    "executionInfo": {
     "elapsed": 49,
     "status": "ok",
     "timestamp": 1742176867929,
     "user": {
      "displayName": "Tae Heon Kim",
      "userId": "07653788752262629837"
     },
     "user_tz": -540
    },
    "id": "A8ymIAM3jPk-",
    "outputId": "532a7144-2b85-473f-d448-d2119acb810c"
   },
   "outputs": [
    {
     "name": "stdout",
     "output_type": "stream",
     "text": [
      "ROC-AUC: 0.86\n"
     ]
    }
   ],
   "source": [
    "# ROC-AUC\n",
    "from sklearn.metrics import roc_auc_score\n",
    "\n",
    "# 실제값 (0: 음성, 1: 양성)\n",
    "y_true = pd.DataFrame([0, 1, 0, 1, 1, 0, 0, 0, 1, 1])\n",
    "# 예측값 중 양성(1) 확률\n",
    "y_pred_proba = pd.DataFrame([0.4, 0.9, 0.1, 0.3, 0.8, 0.6, 0.4, 0.2, 0.7, 0.6])\n",
    "\n",
    "roc_auc = roc_auc_score(y_true, y_pred_proba)\n",
    "print('ROC-AUC:', roc_auc)"
   ]
  },
  {
   "cell_type": "code",
   "execution_count": 7,
   "metadata": {
    "colab": {
     "base_uri": "https://localhost:8080/"
    },
    "executionInfo": {
     "elapsed": 65,
     "status": "ok",
     "timestamp": 1742176867978,
     "user": {
      "displayName": "Tae Heon Kim",
      "userId": "07653788752262629837"
     },
     "user_tz": -540
    },
    "id": "kDHt8BmA82ml",
    "outputId": "a28869c6-53a2-43fd-dcb1-163753cabc66"
   },
   "outputs": [
    {
     "name": "stdout",
     "output_type": "stream",
     "text": [
      "ROC-AUC: 0.86\n"
     ]
    }
   ],
   "source": [
    "# 실제값\n",
    "y_true_str = pd.DataFrame(['A', 'B', 'A', 'B', 'B', 'A', 'A', 'A', 'B', 'B'])\n",
    "\n",
    "# 예측값 중 B 확률\n",
    "y_pred_proba_str = pd.DataFrame([0.4, 0.9, 0.1, 0.3, 0.8, 0.6, 0.4, 0.2, 0.7, 0.6])\n",
    "roc_auc = roc_auc_score(y_true_str, y_pred_proba_str)\n",
    "\n",
    "print('ROC-AUC:', roc_auc)"
   ]
  },
  {
   "cell_type": "code",
   "execution_count": 8,
   "metadata": {
    "colab": {
     "base_uri": "https://localhost:8080/"
    },
    "executionInfo": {
     "elapsed": 96,
     "status": "ok",
     "timestamp": 1742176868073,
     "user": {
      "displayName": "Tae Heon Kim",
      "userId": "07653788752262629837"
     },
     "user_tz": -540
    },
    "id": "EGq3WO9rgRGB",
    "outputId": "a28d1c1d-76a6-42ec-9998-2dd0cc385975"
   },
   "outputs": [
    {
     "name": "stdout",
     "output_type": "stream",
     "text": [
      "ROC-AUC: 0.86\n"
     ]
    }
   ],
   "source": [
    "# 참고 (실제값을 0과 1로 변경)\n",
    "from sklearn.metrics import roc_auc_score\n",
    "\n",
    "y_true_str = pd.DataFrame(['A', 'B', 'A', 'B', 'B', 'A', 'A', 'A', 'B', 'B'])\n",
    "y_pred_proba_str = pd.DataFrame([0.4, 0.9, 0.1, 0.3, 0.8, 0.6, 0.4, 0.2, 0.7, 0.6])\n",
    "\n",
    "# 'A'를 0, 'B'를 1으로 변환\n",
    "y_true_binary = (y_true_str == 'B').astype(int)\n",
    "\n",
    "roc_auc = roc_auc_score(y_true_binary, y_pred_proba)\n",
    "print('ROC-AUC:', roc_auc)"
   ]
  },
  {
   "cell_type": "markdown",
   "metadata": {
    "id": "CCrgqDtQlWLe"
   },
   "source": [
    "## 다중분류 평가지표"
   ]
  },
  {
   "cell_type": "code",
   "execution_count": 9,
   "metadata": {
    "executionInfo": {
     "elapsed": 2,
     "status": "ok",
     "timestamp": 1742176868074,
     "user": {
      "displayName": "Tae Heon Kim",
      "userId": "07653788752262629837"
     },
     "user_tz": -540
    },
    "id": "CQhA_jUQjHxW"
   },
   "outputs": [],
   "source": [
    "# 다중분류 데이터\n",
    "y_true = pd.DataFrame([1, 2, 3, 3, 2, 1, 3, 3, 2, 1])  # 실제값\n",
    "y_pred = pd.DataFrame([1, 2, 1, 3, 2, 1, 1, 2, 2, 1])  # 예측값\n",
    "\n",
    "y_true_str = pd.DataFrame(['A', 'B', 'C', 'C', 'B', 'A', 'C', 'C', 'B', 'A'])  # 실제값\n",
    "y_pred_str = pd.DataFrame(['A', 'B', 'A', 'C', 'B', 'A', 'A', 'B', 'B', 'A'])  # 예측값"
   ]
  },
  {
   "cell_type": "code",
   "execution_count": 10,
   "metadata": {
    "colab": {
     "base_uri": "https://localhost:8080/"
    },
    "executionInfo": {
     "elapsed": 115,
     "status": "ok",
     "timestamp": 1742176868203,
     "user": {
      "displayName": "Tae Heon Kim",
      "userId": "07653788752262629837"
     },
     "user_tz": -540
    },
    "id": "lQGHo-DdlYIp",
    "outputId": "8a74eac8-e2a5-41d2-b1ae-fee1a607cb68"
   },
   "outputs": [
    {
     "name": "stdout",
     "output_type": "stream",
     "text": [
      "정확도: 0.7\n",
      "정확도: 0.7\n"
     ]
    }
   ],
   "source": [
    "# 정확도(Accuracy)\n",
    "from sklearn.metrics import accuracy_score\n",
    "\n",
    "accuracy = accuracy_score(y_true, y_pred)\n",
    "print('정확도:', accuracy)\n",
    "\n",
    "accuracy = accuracy_score(y_true_str, y_pred_str)\n",
    "print('정확도:', accuracy)"
   ]
  },
  {
   "cell_type": "code",
   "execution_count": 11,
   "metadata": {
    "colab": {
     "base_uri": "https://localhost:8080/"
    },
    "executionInfo": {
     "elapsed": 96,
     "status": "ok",
     "timestamp": 1742176868298,
     "user": {
      "displayName": "Tae Heon Kim",
      "userId": "07653788752262629837"
     },
     "user_tz": -540
    },
    "id": "4mSLzqU3lzTr",
    "outputId": "ff0d37cb-721a-4956-bcb5-880511a08800"
   },
   "outputs": [
    {
     "name": "stdout",
     "output_type": "stream",
     "text": [
      "정밀도: 0.7833333333333333\n",
      "정밀도: 0.7833333333333333\n"
     ]
    }
   ],
   "source": [
    "# 정밀도(Precision)\n",
    "from sklearn.metrics import precision_score\n",
    "\n",
    "precision = precision_score(\n",
    "    y_true, y_pred, average='macro'\n",
    ")  # average= micro, macro, weighted\n",
    "print('정밀도:', precision)\n",
    "\n",
    "precision = precision_score(y_true_str, y_pred_str, average='macro')\n",
    "print('정밀도:', precision)"
   ]
  },
  {
   "cell_type": "code",
   "execution_count": 12,
   "metadata": {
    "colab": {
     "base_uri": "https://localhost:8080/"
    },
    "executionInfo": {
     "elapsed": 204,
     "status": "ok",
     "timestamp": 1742176868502,
     "user": {
      "displayName": "Tae Heon Kim",
      "userId": "07653788752262629837"
     },
     "user_tz": -540
    },
    "id": "E_n4u8wUl3nS",
    "outputId": "e3fcebc4-764e-435e-9d39-5b82db1a7247"
   },
   "outputs": [
    {
     "name": "stdout",
     "output_type": "stream",
     "text": [
      "재현율: 0.75\n",
      "재현율: 0.75\n"
     ]
    }
   ],
   "source": [
    "# 재현율(Recall)\n",
    "from sklearn.metrics import recall_score\n",
    "\n",
    "recall = recall_score(\n",
    "    y_true, y_pred, average='macro'\n",
    ")  # average= micro, macro, weighted\n",
    "print('재현율:', recall)\n",
    "\n",
    "recall = recall_score(y_true_str, y_pred_str, average='macro')\n",
    "print('재현율:', recall)"
   ]
  },
  {
   "cell_type": "code",
   "execution_count": 13,
   "metadata": {
    "colab": {
     "base_uri": "https://localhost:8080/"
    },
    "executionInfo": {
     "elapsed": 97,
     "status": "ok",
     "timestamp": 1742176868601,
     "user": {
      "displayName": "Tae Heon Kim",
      "userId": "07653788752262629837"
     },
     "user_tz": -540
    },
    "id": "fPNIshTOmzhA",
    "outputId": "c8e3bfb1-2081-4ee3-ce83-fcff0b520a76"
   },
   "outputs": [
    {
     "name": "stdout",
     "output_type": "stream",
     "text": [
      "F1 스코어: 0.669047619047619\n",
      "F1 스코어: 0.669047619047619\n"
     ]
    }
   ],
   "source": [
    "# F1 스코어(F1 Score)\n",
    "from sklearn.metrics import f1_score\n",
    "\n",
    "f1 = f1_score(y_true, y_pred, average='macro')  # average= micro, macro, weighted\n",
    "print('F1 스코어:', f1)\n",
    "\n",
    "f1 = f1_score(y_true_str, y_pred_str, average='macro')\n",
    "print('F1 스코어:', f1)"
   ]
  },
  {
   "cell_type": "markdown",
   "metadata": {
    "id": "CPpvxE1gox0C"
   },
   "source": [
    "## 회귀 평가지표"
   ]
  },
  {
   "cell_type": "code",
   "execution_count": 14,
   "metadata": {
    "executionInfo": {
     "elapsed": 12,
     "status": "ok",
     "timestamp": 1742176868611,
     "user": {
      "displayName": "Tae Heon Kim",
      "userId": "07653788752262629837"
     },
     "user_tz": -540
    },
    "id": "gxaFPg9urVDH"
   },
   "outputs": [],
   "source": [
    "# 회귀 데이터\n",
    "import pandas as pd\n",
    "\n",
    "y_true = pd.DataFrame([1, 2, 5, 2, 4, 4, 7, 9])  # 실제값\n",
    "y_pred = pd.DataFrame([1.14, 2.53, 4.87, 3.08, 4.21, 5.53, 7.51, 10.32])  # 예측값"
   ]
  },
  {
   "cell_type": "code",
   "execution_count": 15,
   "metadata": {
    "colab": {
     "base_uri": "https://localhost:8080/"
    },
    "executionInfo": {
     "elapsed": 123,
     "status": "ok",
     "timestamp": 1742176868734,
     "user": {
      "displayName": "Tae Heon Kim",
      "userId": "07653788752262629837"
     },
     "user_tz": -540
    },
    "id": "JkPY1sH_ofQc",
    "outputId": "96314889-0135-4ea4-f1b8-5ca6c381a097"
   },
   "outputs": [
    {
     "name": "stdout",
     "output_type": "stream",
     "text": [
      "MSE: 0.7339125000000001\n"
     ]
    }
   ],
   "source": [
    "# MSE(Mean Squared Error)\n",
    "from sklearn.metrics import mean_squared_error\n",
    "\n",
    "mse = mean_squared_error(y_true, y_pred)\n",
    "print('MSE:', mse)"
   ]
  },
  {
   "cell_type": "code",
   "execution_count": 16,
   "metadata": {
    "colab": {
     "base_uri": "https://localhost:8080/"
    },
    "executionInfo": {
     "elapsed": 5,
     "status": "ok",
     "timestamp": 1742176868736,
     "user": {
      "displayName": "Tae Heon Kim",
      "userId": "07653788752262629837"
     },
     "user_tz": -540
    },
    "id": "foCZLZSso-Sg",
    "outputId": "a6f9be44-f709-459f-8a94-6b7a44604172"
   },
   "outputs": [
    {
     "name": "stdout",
     "output_type": "stream",
     "text": [
      "MAE: 0.68125\n"
     ]
    }
   ],
   "source": [
    "# MAE(Mean Absolute Error)\n",
    "from sklearn.metrics import mean_absolute_error\n",
    "\n",
    "mae = mean_absolute_error(y_true, y_pred)\n",
    "print('MAE:', mae)"
   ]
  },
  {
   "cell_type": "code",
   "execution_count": 17,
   "metadata": {
    "colab": {
     "base_uri": "https://localhost:8080/"
    },
    "executionInfo": {
     "elapsed": 46,
     "status": "ok",
     "timestamp": 1742176868782,
     "user": {
      "displayName": "Tae Heon Kim",
      "userId": "07653788752262629837"
     },
     "user_tz": -540
    },
    "id": "pijoRvYdo-aD",
    "outputId": "dcf63d7e-1434-4231-e363-3cf9b5bedbec"
   },
   "outputs": [
    {
     "name": "stdout",
     "output_type": "stream",
     "text": [
      "결정 계수: 0.8859941747572815\n"
     ]
    }
   ],
   "source": [
    "# 결정 계수(R-squared)\n",
    "from sklearn.metrics import r2_score\n",
    "\n",
    "r2 = r2_score(y_true, y_pred)\n",
    "print('결정 계수:', r2)"
   ]
  },
  {
   "cell_type": "code",
   "execution_count": 18,
   "metadata": {
    "colab": {
     "base_uri": "https://localhost:8080/"
    },
    "executionInfo": {
     "elapsed": 9,
     "status": "ok",
     "timestamp": 1742176868790,
     "user": {
      "displayName": "Tae Heon Kim",
      "userId": "07653788752262629837"
     },
     "user_tz": -540
    },
    "id": "b-qZP1M4NxNM",
    "outputId": "76ed597b-29fb-423b-c4a8-f2f34399c696"
   },
   "outputs": [
    {
     "name": "stdout",
     "output_type": "stream",
     "text": [
      "RMSE: 0.8566869323154171\n"
     ]
    }
   ],
   "source": [
    "# RMSE(Root Mean Squared Error)\n",
    "from sklearn.metrics import root_mean_squared_error\n",
    "\n",
    "rmse = root_mean_squared_error(y_true, y_pred)\n",
    "print('RMSE:', rmse)"
   ]
  },
  {
   "cell_type": "code",
   "execution_count": 19,
   "metadata": {
    "colab": {
     "base_uri": "https://localhost:8080/"
    },
    "executionInfo": {
     "elapsed": 3,
     "status": "ok",
     "timestamp": 1742176868839,
     "user": {
      "displayName": "Tae Heon Kim",
      "userId": "07653788752262629837"
     },
     "user_tz": -540
    },
    "id": "RHG3TIHqq1M0",
    "outputId": "ed6cd5c8-036e-428b-efb0-53685c848295"
   },
   "outputs": [
    {
     "name": "stdout",
     "output_type": "stream",
     "text": [
      "MSLE: 0.027278486182156975\n"
     ]
    }
   ],
   "source": [
    "# MSLE(Mean Squared Log Error)\n",
    "from sklearn.metrics import mean_squared_log_error\n",
    "\n",
    "msle = mean_squared_log_error(y_true, y_pred)\n",
    "print('MSLE:', msle)"
   ]
  },
  {
   "cell_type": "code",
   "execution_count": 20,
   "metadata": {
    "colab": {
     "base_uri": "https://localhost:8080/"
    },
    "executionInfo": {
     "elapsed": 14,
     "status": "ok",
     "timestamp": 1742176868854,
     "user": {
      "displayName": "Tae Heon Kim",
      "userId": "07653788752262629837"
     },
     "user_tz": -540
    },
    "id": "wsAnyeb1qGyt",
    "outputId": "f001a0c3-bd60-472e-db9d-ed4b1d0635fb"
   },
   "outputs": [
    {
     "name": "stdout",
     "output_type": "stream",
     "text": [
      "RMSLE: 0.1651619998127807\n"
     ]
    }
   ],
   "source": [
    "# RMSLE(Root Mean Squared Log Error)\n",
    "from sklearn.metrics import root_mean_squared_log_error\n",
    "\n",
    "rmsle = root_mean_squared_log_error(y_true, y_pred)\n",
    "print('RMSLE:', rmsle)"
   ]
  },
  {
   "cell_type": "code",
   "execution_count": 21,
   "metadata": {
    "colab": {
     "base_uri": "https://localhost:8080/"
    },
    "executionInfo": {
     "elapsed": 39,
     "status": "ok",
     "timestamp": 1742176868893,
     "user": {
      "displayName": "Tae Heon Kim",
      "userId": "07653788752262629837"
     },
     "user_tz": -540
    },
    "id": "cZVmLXZJ_pxE",
    "outputId": "ee801c4f-d862-46cd-9e79-b8067c7f4158"
   },
   "outputs": [
    {
     "name": "stdout",
     "output_type": "stream",
     "text": [
      "MAPE: 0    20.319048\n",
      "dtype: float64\n"
     ]
    }
   ],
   "source": [
    "# MAPE(Mean Absolute Percentage Error)\n",
    "mape = (abs((y_true - y_pred) / y_true)).mean() * 100\n",
    "print('MAPE:', mape)"
   ]
  },
  {
   "cell_type": "code",
   "execution_count": 22,
   "metadata": {
    "colab": {
     "base_uri": "https://localhost:8080/"
    },
    "executionInfo": {
     "elapsed": 86,
     "status": "ok",
     "timestamp": 1742176868997,
     "user": {
      "displayName": "Tae Heon Kim",
      "userId": "07653788752262629837"
     },
     "user_tz": -540
    },
    "id": "i9gT--uOCW-b",
    "outputId": "88ef1900-9e6e-4ef6-98f9-ee75785861f9"
   },
   "outputs": [
    {
     "name": "stdout",
     "output_type": "stream",
     "text": [
      "MAPE: 0    20.319048\n",
      "dtype: float64\n"
     ]
    }
   ],
   "source": [
    "epsilon = 1e-10\n",
    "mape = (abs((y_true - y_pred) / (y_true + epsilon))).mean() * 100\n",
    "print('MAPE:', mape)"
   ]
  },
  {
   "cell_type": "code",
   "execution_count": 22,
   "metadata": {
    "executionInfo": {
     "elapsed": 1,
     "status": "ok",
     "timestamp": 1742176869000,
     "user": {
      "displayName": "Tae Heon Kim",
      "userId": "07653788752262629837"
     },
     "user_tz": -540
    },
    "id": "RGg7hqRkCZJb"
   },
   "outputs": [],
   "source": []
  }
 ],
 "metadata": {
  "colab": {
   "authorship_tag": "ABX9TyOHzB7pG06Cl4guL/0CiOdC",
   "provenance": []
  },
  "kernelspec": {
   "display_name": "Python 3",
   "name": "python3"
  },
  "language_info": {
   "name": "python"
  }
 },
 "nbformat": 4,
 "nbformat_minor": 0
}
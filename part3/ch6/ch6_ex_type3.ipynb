{
 "cells": [
  {
   "cell_type": "markdown",
   "metadata": {
    "id": "nlRMN52jh6dF"
   },
   "source": [
    "[구글 코랩(Colab)에서 실행하기](https://colab.research.google.com/github/lovedlim/bigdata_analyst_cert_v2/blob/main/part3/ch6/ch6_ex_type3.ipynb)"
   ]
  },
  {
   "cell_type": "markdown",
   "metadata": {
    "id": "rIah9uDls8Y4"
   },
   "source": [
    "### Section1."
   ]
  },
  {
   "cell_type": "code",
   "execution_count": 1,
   "metadata": {
    "executionInfo": {
     "elapsed": 1990,
     "status": "ok",
     "timestamp": 1742217829117,
     "user": {
      "displayName": "Tae Heon Kim",
      "userId": "07653788752262629837"
     },
     "user_tz": -540
    },
    "id": "YdGBSoK7ss18"
   },
   "outputs": [],
   "source": [
    "# 데이터\n",
    "import pandas as pd\n",
    "\n",
    "df = pd.DataFrame({\n",
    "    'Caffeine(mg)': [\n",
    "        94.2,\n",
    "        93.7,\n",
    "        95.5,\n",
    "        93.9,\n",
    "        94.0,\n",
    "        95.2,\n",
    "        94.7,\n",
    "        93.5,\n",
    "        92.8,\n",
    "        94.4,\n",
    "        93.8,\n",
    "        94.6,\n",
    "        93.3,\n",
    "        95.1,\n",
    "        94.3,\n",
    "        94.9,\n",
    "        93.9,\n",
    "        94.8,\n",
    "        95.0,\n",
    "        94.2,\n",
    "        93.7,\n",
    "        94.4,\n",
    "        95.1,\n",
    "        94.0,\n",
    "        93.6,\n",
    "    ]\n",
    "})"
   ]
  },
  {
   "cell_type": "code",
   "execution_count": 2,
   "metadata": {
    "colab": {
     "base_uri": "https://localhost:8080/"
    },
    "executionInfo": {
     "elapsed": 5310,
     "status": "ok",
     "timestamp": 1742217834430,
     "user": {
      "displayName": "Tae Heon Kim",
      "userId": "07653788752262629837"
     },
     "user_tz": -540
    },
    "id": "eznrJoqNu2Y-",
    "outputId": "3b6af4d6-0082-4ac8-cede-d9f3946234a7"
   },
   "outputs": [
    {
     "name": "stdout",
     "output_type": "stream",
     "text": [
      "Caffeine(mg)    94.264\n",
      "dtype: float64\n",
      "ShapiroResult(statistic=0.9826578166170536, pvalue=0.9322031137746971)\n",
      "TtestResult(statistic=-5.501737036221897, pvalue=5.8686553916715e-06, df=24)\n"
     ]
    }
   ],
   "source": [
    "# 1. 표본 평균\n",
    "print(df.mean())\n",
    "\n",
    "# 2. 정규성 검정\n",
    "from scipy import stats\n",
    "\n",
    "print(stats.shapiro(df['Caffeine(mg)']))\n",
    "\n",
    "# 3~5.단일 표본 t-검정\n",
    "print(stats.ttest_1samp(df['Caffeine(mg)'], 95, alternative='less'))"
   ]
  },
  {
   "cell_type": "code",
   "execution_count": 3,
   "metadata": {
    "colab": {
     "base_uri": "https://localhost:8080/"
    },
    "executionInfo": {
     "elapsed": 72,
     "status": "ok",
     "timestamp": 1742217834493,
     "user": {
      "displayName": "Tae Heon Kim",
      "userId": "07653788752262629837"
     },
     "user_tz": -540
    },
    "id": "YautJB8WtPId",
    "outputId": "31bfc4a1-3b62-487d-e46c-e1642d5330cd"
   },
   "outputs": [
    {
     "name": "stdout",
     "output_type": "stream",
     "text": [
      "0.0000058687\n"
     ]
    }
   ],
   "source": [
    "statistic, pvalue = stats.ttest_1samp(df['Caffeine(mg)'], 95, alternative='less')\n",
    "print('{:.10f}'.format(pvalue))"
   ]
  },
  {
   "cell_type": "markdown",
   "metadata": {
    "id": "4jmb8WXluI9Z"
   },
   "source": [
    "### Section2."
   ]
  },
  {
   "cell_type": "code",
   "execution_count": 4,
   "metadata": {
    "colab": {
     "base_uri": "https://localhost:8080/"
    },
    "executionInfo": {
     "elapsed": 80,
     "status": "ok",
     "timestamp": 1742217834591,
     "user": {
      "displayName": "Tae Heon Kim",
      "userId": "07653788752262629837"
     },
     "user_tz": -540
    },
    "id": "TGuEitO6uDRd",
    "outputId": "2fbdf40a-eb35-4666-d64e-2ec9a13ee257"
   },
   "outputs": [
    {
     "name": "stdout",
     "output_type": "stream",
     "text": [
      "   충전기  충전시간\n",
      "0  New   1.5\n",
      "1  New   1.6\n"
     ]
    }
   ],
   "source": [
    "# 데이터\n",
    "import pandas as pd\n",
    "\n",
    "df = pd.DataFrame({\n",
    "    '충전기': ['New'] * 10 + ['Old'] * 10,\n",
    "    '충전시간': [\n",
    "        1.5,\n",
    "        1.6,\n",
    "        1.4,\n",
    "        1.7,\n",
    "        1.5,\n",
    "        1.6,\n",
    "        1.7,\n",
    "        1.4,\n",
    "        1.6,\n",
    "        1.5,\n",
    "        1.7,\n",
    "        1.8,\n",
    "        1.7,\n",
    "        1.9,\n",
    "        1.8,\n",
    "        1.7,\n",
    "        1.8,\n",
    "        1.9,\n",
    "        1.7,\n",
    "        1.6,\n",
    "    ],\n",
    "})\n",
    "print(df.head(2))"
   ]
  },
  {
   "cell_type": "code",
   "execution_count": 5,
   "metadata": {
    "colab": {
     "base_uri": "https://localhost:8080/"
    },
    "executionInfo": {
     "elapsed": 20,
     "status": "ok",
     "timestamp": 1742217834731,
     "user": {
      "displayName": "Tae Heon Kim",
      "userId": "07653788752262629837"
     },
     "user_tz": -540
    },
    "id": "kRpNDnEBz-PJ",
    "outputId": "08d768a1-530e-4ca0-bcc7-d28eb43f4ace"
   },
   "outputs": [
    {
     "name": "stdout",
     "output_type": "stream",
     "text": [
      "TtestResult(statistic=-4.582575694955849, pvalue=0.00011546547787696304, df=18.0)\n"
     ]
    }
   ],
   "source": [
    "# 1~3. 독립 표본 t-검정\n",
    "new_cond = df['충전기'] == 'New'\n",
    "old_cond = df['충전기'] == 'Old'\n",
    "print(\n",
    "    stats.ttest_ind(\n",
    "        df[new_cond]['충전시간'],\n",
    "        df[old_cond]['충전시간'],\n",
    "        alternative='less',\n",
    "        equal_var=True,\n",
    "    )\n",
    ")"
   ]
  },
  {
   "cell_type": "markdown",
   "metadata": {
    "id": "ei2s5M8I73GN"
   },
   "source": [
    "### Section3."
   ]
  },
  {
   "cell_type": "code",
   "execution_count": 6,
   "metadata": {
    "colab": {
     "base_uri": "https://localhost:8080/"
    },
    "executionInfo": {
     "elapsed": 32,
     "status": "ok",
     "timestamp": 1742217834764,
     "user": {
      "displayName": "Tae Heon Kim",
      "userId": "07653788752262629837"
     },
     "user_tz": -540
    },
    "id": "o45YbWXS74OE",
    "outputId": "023be7c4-2607-4ae2-80fd-a38ca0fc25de"
   },
   "outputs": [
    {
     "name": "stdout",
     "output_type": "stream",
     "text": [
      "   User  기존방법  새로운방법\n",
      "0     1  60.4   59.8\n",
      "1     2  60.7   60.2\n"
     ]
    }
   ],
   "source": [
    "# 데이터\n",
    "import pandas as pd\n",
    "\n",
    "df = pd.DataFrame({\n",
    "    'User': list(range(1, 11)),\n",
    "    '기존방법': [60.4, 60.7, 60.5, 60.3, 60.8, 60.6, 60.2, 60.5, 60.7, 60.4],\n",
    "    '새로운방법': [59.8, 60.2, 60.1, 59.9, 59.7, 58.4, 57.0, 60.3, 59.6, 59.8],\n",
    "})\n",
    "print(df.head(2))"
   ]
  },
  {
   "cell_type": "code",
   "execution_count": 7,
   "metadata": {
    "colab": {
     "base_uri": "https://localhost:8080/"
    },
    "executionInfo": {
     "elapsed": 115,
     "status": "ok",
     "timestamp": 1742217834886,
     "user": {
      "displayName": "Tae Heon Kim",
      "userId": "07653788752262629837"
     },
     "user_tz": -540
    },
    "id": "cgV_7XCj78y9",
    "outputId": "051507e9-4b0f-4c25-b12d-c3edf5378b42"
   },
   "outputs": [
    {
     "name": "stdout",
     "output_type": "stream",
     "text": [
      "-1.0300000000000005\n",
      "TtestResult(statistic=-3.407973078114844, pvalue=0.0038872633380070652, df=9)\n"
     ]
    }
   ],
   "source": [
    "# 1. 표본 평균\n",
    "df['diff'] = df['새로운방법'] - df['기존방법']\n",
    "print(df['diff'].mean())\n",
    "\n",
    "# 2~4. 대응 표본 t-검정\n",
    "print(stats.ttest_rel(df['새로운방법'], df['기존방법'], alternative='less'))"
   ]
  },
  {
   "cell_type": "markdown",
   "metadata": {
    "id": "MU5342Fp74lz"
   },
   "source": [
    "### Section4."
   ]
  },
  {
   "cell_type": "code",
   "execution_count": 8,
   "metadata": {
    "colab": {
     "base_uri": "https://localhost:8080/"
    },
    "executionInfo": {
     "elapsed": 24,
     "status": "ok",
     "timestamp": 1742217834911,
     "user": {
      "displayName": "Tae Heon Kim",
      "userId": "07653788752262629837"
     },
     "user_tz": -540
    },
    "id": "8j386IAO1M5I",
    "outputId": "cfabb178-ab6e-4d71-819e-f1f07e88742b"
   },
   "outputs": [
    {
     "name": "stdout",
     "output_type": "stream",
     "text": [
      "    groups  scores\n",
      "0  group_A      85\n",
      "1  group_A      88\n",
      "2  group_A      90\n",
      "3  group_A      82\n",
      "4  group_A      87\n"
     ]
    }
   ],
   "source": [
    "import pandas as pd\n",
    "\n",
    "# df = pd.read_csv(\"math.csv\")\n",
    "df = pd.read_csv(\n",
    "    'https://raw.githubusercontent.com/lovedlim/bigdata_analyst_cert/main/part3/ch6/math.csv'\n",
    ")\n",
    "print(df.head())"
   ]
  },
  {
   "cell_type": "code",
   "execution_count": 9,
   "metadata": {
    "colab": {
     "base_uri": "https://localhost:8080/"
    },
    "executionInfo": {
     "elapsed": 77,
     "status": "ok",
     "timestamp": 1742217834992,
     "user": {
      "displayName": "Tae Heon Kim",
      "userId": "07653788752262629837"
     },
     "user_tz": -540
    },
    "id": "JeIkwEkY1wFY",
    "outputId": "ef1bea19-932c-4916-d333-bd225d5b586d"
   },
   "outputs": [
    {
     "name": "stdout",
     "output_type": "stream",
     "text": [
      "ShapiroResult(statistic=0.9715896670696531, pvalue=0.9051800443853569)\n",
      "ShapiroResult(statistic=0.9499422438060351, pvalue=0.6678172590861611)\n",
      "ShapiroResult(statistic=0.9299424104842702, pvalue=0.44732595113862045)\n",
      "ShapiroResult(statistic=0.9065684572704982, pvalue=0.25824165549017347)\n",
      "LeveneResult(statistic=1.757685352622062, pvalue=0.17270284963232108)\n"
     ]
    }
   ],
   "source": [
    "from scipy import stats\n",
    "\n",
    "# 1. Shapiro-Wilk 검정 (정규성)\n",
    "condA = df['groups'] == 'group_A'\n",
    "print(stats.shapiro(df[condA]['scores']))\n",
    "\n",
    "condB = df['groups'] == 'group_B'\n",
    "print(stats.shapiro(df[condB]['scores']))\n",
    "\n",
    "condC = df['groups'] == 'group_C'\n",
    "print(stats.shapiro(df[condC]['scores']))\n",
    "\n",
    "condD = df['groups'] == 'group_D'\n",
    "print(stats.shapiro(df[condD]['scores']))\n",
    "\n",
    "# 2. Levene 검정 (등분산성)\n",
    "print(\n",
    "    stats.levene(\n",
    "        df[condA]['scores'],\n",
    "        df[condB]['scores'],\n",
    "        df[condC]['scores'],\n",
    "        df[condD]['scores'],\n",
    "    )\n",
    ")"
   ]
  },
  {
   "cell_type": "code",
   "execution_count": 10,
   "metadata": {
    "colab": {
     "base_uri": "https://localhost:8080/"
    },
    "executionInfo": {
     "elapsed": 2344,
     "status": "ok",
     "timestamp": 1742217837337,
     "user": {
      "displayName": "Tae Heon Kim",
      "userId": "07653788752262629837"
     },
     "user_tz": -540
    },
    "id": "qVILWYjPt6ly",
    "outputId": "e4930fae-2b44-410a-f0f8-5a7b15759bf1"
   },
   "outputs": [
    {
     "name": "stdout",
     "output_type": "stream",
     "text": [
      "            df  sum_sq     mean_sq          F        PR(>F)\n",
      "groups     3.0   411.8  137.266667  34.174274  1.240642e-10\n",
      "Residual  36.0   144.6    4.016667        NaN           NaN\n"
     ]
    }
   ],
   "source": [
    "# 일원분산분석을 위한 모델 학습\n",
    "from statsmodels.formula.api import ols\n",
    "\n",
    "model = ols('scores ~ groups', df).fit()\n",
    "\n",
    "# 3~9. ANOVA 테이블\n",
    "from statsmodels.stats.anova import anova_lm\n",
    "\n",
    "print(anova_lm(model))"
   ]
  },
  {
   "cell_type": "markdown",
   "metadata": {
    "id": "Zmtdhqk-2_XA"
   },
   "source": [
    "### Section5."
   ]
  },
  {
   "cell_type": "code",
   "execution_count": 11,
   "metadata": {
    "colab": {
     "base_uri": "https://localhost:8080/"
    },
    "executionInfo": {
     "elapsed": 170,
     "status": "ok",
     "timestamp": 1742217837509,
     "user": {
      "displayName": "Tae Heon Kim",
      "userId": "07653788752262629837"
     },
     "user_tz": -540
    },
    "id": "DU30cD1I2-5F",
    "outputId": "06cc0d41-58d1-4eb9-e5b1-b5977fa5fc36"
   },
   "outputs": [
    {
     "name": "stdout",
     "output_type": "stream",
     "text": [
      "  비료유형  물주기  수확량\n",
      "0    A    1  514\n",
      "1    A    1  480\n",
      "2    A    1  507\n",
      "3    A    2  452\n",
      "4    A    2  526\n"
     ]
    }
   ],
   "source": [
    "# 데이터\n",
    "import pandas as pd\n",
    "\n",
    "# df = pd.read_csv(\"tomato2.csv\")\n",
    "df = pd.read_csv(\n",
    "    'https://raw.githubusercontent.com/lovedlim/bigdata_analyst_cert/main/part3/ch6/tomato2.csv'\n",
    ")\n",
    "print(df.head())"
   ]
  },
  {
   "cell_type": "code",
   "execution_count": 12,
   "metadata": {
    "colab": {
     "base_uri": "https://localhost:8080/"
    },
    "executionInfo": {
     "elapsed": 7163,
     "status": "ok",
     "timestamp": 1742217844684,
     "user": {
      "displayName": "Tae Heon Kim",
      "userId": "07653788752262629837"
     },
     "user_tz": -540
    },
    "id": "1J0N5JajP93i",
    "outputId": "86b8a38a-5677-4ef2-ae33-f54daa35910d"
   },
   "outputs": [
    {
     "name": "stdout",
     "output_type": "stream",
     "text": [
      "                  df        sum_sq      mean_sq         F    PR(>F)\n",
      "C(비료유형)          2.0   5251.722222  2625.861111  3.184685  0.059334\n",
      "C(물주기)           3.0   9057.000000  3019.000000  3.661490  0.026460\n",
      "C(비료유형):C(물주기)   6.0   4271.833333   711.972222  0.863491  0.535426\n",
      "Residual        24.0  19788.666667   824.527778       NaN       NaN\n"
     ]
    }
   ],
   "source": [
    "import statsmodels.api as sm\n",
    "from statsmodels.formula.api import ols\n",
    "\n",
    "# 1~9 이원 분산 분석\n",
    "model = ols('수확량 ~ C(비료유형) * C(물주기)', data=df).fit()\n",
    "anova_table = sm.stats.anova_lm(model)\n",
    "print(anova_table)"
   ]
  },
  {
   "cell_type": "markdown",
   "metadata": {
    "id": "MPnLvlVkTKR-"
   },
   "source": [
    "### Section6."
   ]
  },
  {
   "cell_type": "code",
   "execution_count": 13,
   "metadata": {
    "colab": {
     "base_uri": "https://localhost:8080/"
    },
    "executionInfo": {
     "elapsed": 48,
     "status": "ok",
     "timestamp": 1742217844737,
     "user": {
      "displayName": "Tae Heon Kim",
      "userId": "07653788752262629837"
     },
     "user_tz": -540
    },
    "id": "eXPWPwWuTDql",
    "outputId": "17b2b9bf-b071-4cff-95b4-7e8ff5089749"
   },
   "outputs": [
    {
     "name": "stdout",
     "output_type": "stream",
     "text": [
      "0.03\n",
      "Power_divergenceResult(statistic=22.166666666666668, pvalue=0.00018567620386641427)\n"
     ]
    }
   ],
   "source": [
    "# 1. 교통사고 5회 이상 경험 비율\n",
    "print(30 / 1000)\n",
    "\n",
    "# 2~4. 적합도 검정\n",
    "from scipy.stats import chisquare\n",
    "\n",
    "observed = [550, 250, 100, 70, 30]\n",
    "expected = [1000 * 0.60, 1000 * 0.25, 1000 * 0.08, 1000 * 0.05, 1000 * 0.02]\n",
    "print(chisquare(observed, expected))"
   ]
  },
  {
   "cell_type": "markdown",
   "metadata": {
    "id": "0zBxYKgtTLyd"
   },
   "source": [
    "### Section7."
   ]
  },
  {
   "cell_type": "code",
   "execution_count": 14,
   "metadata": {
    "colab": {
     "base_uri": "https://localhost:8080/"
    },
    "executionInfo": {
     "elapsed": 84,
     "status": "ok",
     "timestamp": 1742217844840,
     "user": {
      "displayName": "Tae Heon Kim",
      "userId": "07653788752262629837"
     },
     "user_tz": -540
    },
    "id": "7-6Xuq7HTDyy",
    "outputId": "8daac10f-87f9-46be-fd01-88ffc08049a0"
   },
   "outputs": [
    {
     "name": "stdout",
     "output_type": "stream",
     "text": [
      "Chi2ContingencyResult(statistic=0.03535714285714309, pvalue=0.8508492527705047, dof=1, expected_freq=array([[48.88888889, 31.11111111],\n",
      "       [61.11111111, 38.88888889]]))\n"
     ]
    }
   ],
   "source": [
    "import pandas as pd\n",
    "from scipy.stats import chi2_contingency\n",
    "\n",
    "# 1~3. 독립성 검정\n",
    "observed = pd.DataFrame([[50, 30], [60, 40]])\n",
    "print(chi2_contingency(observed))"
   ]
  },
  {
   "cell_type": "code",
   "execution_count": 15,
   "metadata": {
    "colab": {
     "base_uri": "https://localhost:8080/"
    },
    "executionInfo": {
     "elapsed": 83,
     "status": "ok",
     "timestamp": 1742217845014,
     "user": {
      "displayName": "Tae Heon Kim",
      "userId": "07653788752262629837"
     },
     "user_tz": -540
    },
    "id": "hiW56w1DTD1L",
    "outputId": "b9f86faf-7b72-498d-d130-e4d6c535a84b"
   },
   "outputs": [
    {
     "name": "stdout",
     "output_type": "stream",
     "text": [
      "    캠프 등록여부\n",
      "0  빅분기   등록\n",
      "1  빅분기   등록\n",
      "2  빅분기   등록\n",
      "3  빅분기   등록\n",
      "4  빅분기   등록\n"
     ]
    }
   ],
   "source": [
    "# 데이터\n",
    "import pandas as pd\n",
    "\n",
    "df = pd.DataFrame({\n",
    "    '캠프': ['빅분기'] * 80 + ['정처기'] * 100,\n",
    "    '등록여부': ['등록'] * 50 + ['등록안함'] * 30 + ['등록'] * 60 + ['등록안함'] * 40,\n",
    "})\n",
    "print(df.head())"
   ]
  },
  {
   "cell_type": "code",
   "execution_count": 16,
   "metadata": {
    "colab": {
     "base_uri": "https://localhost:8080/"
    },
    "executionInfo": {
     "elapsed": 4,
     "status": "ok",
     "timestamp": 1742217845020,
     "user": {
      "displayName": "Tae Heon Kim",
      "userId": "07653788752262629837"
     },
     "user_tz": -540
    },
    "id": "sYn61RTV7egq",
    "outputId": "ffc67bf5-6dcb-4fc5-b4f5-8f76ace3770b"
   },
   "outputs": [
    {
     "name": "stdout",
     "output_type": "stream",
     "text": [
      "등록여부  등록  등록안함\n",
      "캠프            \n",
      "빅분기   50    30\n",
      "정처기   60    40\n",
      "Chi2ContingencyResult(statistic=0.03535714285714309, pvalue=0.8508492527705047, dof=1, expected_freq=array([[48.88888889, 31.11111111],\n",
      "       [61.11111111, 38.88888889]]))\n"
     ]
    }
   ],
   "source": [
    "# 교차표로 변경\n",
    "df = pd.crosstab(df['캠프'], df['등록여부'])\n",
    "print(df)\n",
    "\n",
    "# 4~6. 독립성 검정\n",
    "print(chi2_contingency(df))"
   ]
  },
  {
   "cell_type": "markdown",
   "metadata": {
    "id": "BTpNhSDU751h"
   },
   "source": [
    "### Section8."
   ]
  },
  {
   "cell_type": "code",
   "execution_count": 17,
   "metadata": {
    "colab": {
     "base_uri": "https://localhost:8080/"
    },
    "executionInfo": {
     "elapsed": 2,
     "status": "ok",
     "timestamp": 1742217845023,
     "user": {
      "displayName": "Tae Heon Kim",
      "userId": "07653788752262629837"
     },
     "user_tz": -540
    },
    "id": "krDzI0y-rXNr",
    "outputId": "a5a39dac-8e72-44e4-8b85-3b2e1e040fe5"
   },
   "outputs": [
    {
     "name": "stdout",
     "output_type": "stream",
     "text": [
      "   할인율  온도  광고비  주문량\n",
      "0   28  15  342  635\n",
      "1   24  34  666  958\n",
      "2   13  15  224  525\n"
     ]
    }
   ],
   "source": [
    "# 데이터\n",
    "import pandas as pd\n",
    "\n",
    "df = pd.DataFrame({\n",
    "    '할인율': [\n",
    "        28,\n",
    "        24,\n",
    "        13,\n",
    "        0,\n",
    "        27,\n",
    "        30,\n",
    "        10,\n",
    "        16,\n",
    "        6,\n",
    "        5,\n",
    "        7,\n",
    "        11,\n",
    "        11,\n",
    "        30,\n",
    "        25,\n",
    "        4,\n",
    "        7,\n",
    "        24,\n",
    "        19,\n",
    "        21,\n",
    "        6,\n",
    "        10,\n",
    "        26,\n",
    "        13,\n",
    "        15,\n",
    "        6,\n",
    "        12,\n",
    "        6,\n",
    "        20,\n",
    "        2,\n",
    "    ],\n",
    "    '온도': [\n",
    "        15,\n",
    "        34,\n",
    "        15,\n",
    "        22,\n",
    "        29,\n",
    "        30,\n",
    "        14,\n",
    "        17,\n",
    "        28,\n",
    "        29,\n",
    "        19,\n",
    "        19,\n",
    "        34,\n",
    "        10,\n",
    "        29,\n",
    "        28,\n",
    "        12,\n",
    "        25,\n",
    "        32,\n",
    "        28,\n",
    "        22,\n",
    "        16,\n",
    "        30,\n",
    "        11,\n",
    "        16,\n",
    "        18,\n",
    "        16,\n",
    "        33,\n",
    "        12,\n",
    "        22,\n",
    "    ],\n",
    "    '광고비': [\n",
    "        342,\n",
    "        666,\n",
    "        224,\n",
    "        764,\n",
    "        148,\n",
    "        499,\n",
    "        711,\n",
    "        596,\n",
    "        797,\n",
    "        484,\n",
    "        986,\n",
    "        347,\n",
    "        146,\n",
    "        362,\n",
    "        642,\n",
    "        591,\n",
    "        846,\n",
    "        260,\n",
    "        560,\n",
    "        941,\n",
    "        469,\n",
    "        309,\n",
    "        730,\n",
    "        305,\n",
    "        892,\n",
    "        147,\n",
    "        887,\n",
    "        526,\n",
    "        525,\n",
    "        884,\n",
    "    ],\n",
    "    '주문량': [\n",
    "        635,\n",
    "        958,\n",
    "        525,\n",
    "        25,\n",
    "        607,\n",
    "        872,\n",
    "        858,\n",
    "        732,\n",
    "        1082,\n",
    "        863,\n",
    "        904,\n",
    "        686,\n",
    "        699,\n",
    "        615,\n",
    "        893,\n",
    "        830,\n",
    "        856,\n",
    "        679,\n",
    "        918,\n",
    "        951,\n",
    "        789,\n",
    "        583,\n",
    "        988,\n",
    "        631,\n",
    "        866,\n",
    "        549,\n",
    "        910,\n",
    "        946,\n",
    "        647,\n",
    "        943,\n",
    "    ],\n",
    "})\n",
    "print(df.head(3))"
   ]
  },
  {
   "cell_type": "code",
   "execution_count": 18,
   "metadata": {
    "colab": {
     "base_uri": "https://localhost:8080/"
    },
    "executionInfo": {
     "elapsed": 88,
     "status": "ok",
     "timestamp": 1742217845112,
     "user": {
      "displayName": "Tae Heon Kim",
      "userId": "07653788752262629837"
     },
     "user_tz": -540
    },
    "id": "4QqMcXwgTPcT",
    "outputId": "f06e7397-87ef-4b24-e61d-c3b4b6f72a3d"
   },
   "outputs": [
    {
     "name": "stdout",
     "output_type": "stream",
     "text": [
      "1. 상관계수: 0.09\n",
      "2. 결정계수(R-squared): 0.4\n",
      "3. 회귀계수: Intercept    267.6609\n",
      "할인율            4.2068\n",
      "온도             9.4798\n",
      "광고비            0.4148\n",
      "dtype: float64\n",
      "4. 절편: 267.6609\n",
      "5. pvalue: 0.0289\n",
      "6. 새로운 데이터: 706\n",
      "7. 잔차 제곱합: 732197.9\n",
      "8. MSE: 24406.5966\n",
      "9. 신뢰구간:\n",
      "                    0           1\n",
      "Intercept  45.955720  489.366084\n",
      "할인율        -1.847229   10.260887\n",
      "온도          2.490702   16.468984\n",
      "광고비         0.201064    0.628589\n",
      "10. 예측값의 신뢰구간과 예측구간:\n",
      "          mean    mean_se  mean_ci_lower  mean_ci_upper  obs_ci_lower  \\\n",
      "0  692.207386  45.555397     614.507283     769.907488    395.622293   \n",
      "\n",
      "   obs_ci_upper  \n",
      "0    988.792478  \n",
      "11. 귀무가설 기각\n",
      "                            OLS Regression Results                            \n",
      "==============================================================================\n",
      "Dep. Variable:                    주문량   R-squared:                       0.400\n",
      "Model:                            OLS   Adj. R-squared:                  0.330\n",
      "Method:                 Least Squares   F-statistic:                     5.770\n",
      "Date:                Mon, 17 Mar 2025   Prob (F-statistic):            0.00366\n",
      "Time:                        13:24:04   Log-Likelihood:                -194.11\n",
      "No. Observations:                  30   AIC:                             396.2\n",
      "Df Residuals:                      26   BIC:                             401.8\n",
      "Df Model:                           3                                         \n",
      "Covariance Type:            nonrobust                                         \n",
      "==============================================================================\n",
      "                 coef    std err          t      P>|t|      [0.025      0.975]\n",
      "------------------------------------------------------------------------------\n",
      "Intercept    267.6609    129.985      2.059      0.050       0.472     534.849\n",
      "할인율            4.2068      3.549      1.185      0.247      -3.089      11.503\n",
      "온도             9.4798      4.098      2.313      0.029       1.057      17.903\n",
      "광고비            0.4148      0.125      3.310      0.003       0.157       0.672\n",
      "==============================================================================\n",
      "Omnibus:                       56.788   Durbin-Watson:                   1.647\n",
      "Prob(Omnibus):                  0.000   Jarque-Bera (JB):              419.005\n",
      "Skew:                          -3.845   Prob(JB):                     1.03e-91\n",
      "Kurtosis:                      19.616   Cond. No.                     2.58e+03\n",
      "==============================================================================\n",
      "\n",
      "Notes:\n",
      "[1] Standard Errors assume that the covariance matrix of the errors is correctly specified.\n",
      "[2] The condition number is large, 2.58e+03. This might indicate that there are\n",
      "strong multicollinearity or other numerical problems.\n"
     ]
    }
   ],
   "source": [
    "# 다중 선형 회귀 모델 적합\n",
    "from statsmodels.formula.api import ols\n",
    "\n",
    "model = ols('주문량 ~ 할인율 + 온도 + 광고비', data=df).fit()\n",
    "\n",
    "# 1. 상관계수\n",
    "print('1. 상관계수:', round(df['할인율'].corr(df['온도']), 2))\n",
    "\n",
    "# 2. 결정계수\n",
    "print('2. 결정계수(R-squared):', round(model.rsquared, 2))\n",
    "\n",
    "# 3. 회귀계수(기울기)\n",
    "print('3. 회귀계수:', round(model.params, 4))\n",
    "\n",
    "# 4. 절편\n",
    "print('4. 절편:', round(model.params['Intercept'], 4))\n",
    "\n",
    "# 5. 회귀계수 검정\n",
    "print('5. pvalue:', round(model.pvalues['온도'], 4))\n",
    "\n",
    "# 6. 예측 판매량\n",
    "new_data = pd.DataFrame({'할인율': [10], '온도': [20], '광고비': [500]})\n",
    "result = model.predict(new_data)\n",
    "print('6. 새로운 데이터:', int(result[0]))\n",
    "\n",
    "# 7. 잔차 제곱합\n",
    "df['잔차'] = df['주문량'] - model.predict(df)\n",
    "print('7. 잔차 제곱합:', round(sum(df['잔차'] ** 2), 2))\n",
    "\n",
    "# 8. MSE(Mean Squared Error)\n",
    "MSE = (df['잔차'] ** 2).mean()\n",
    "print('8. MSE:', round(MSE, 4))\n",
    "\n",
    "# 9. 각 변수에 대한 90% 신뢰구간\n",
    "print('9. 신뢰구간:\\n', model.conf_int(alpha=0.1))\n",
    "\n",
    "# 10. 새로운 데이터의 예측값의 90% 신뢰구간과 예측구간\n",
    "new_data = pd.DataFrame({'할인율': [15], '온도': [25], '광고비': [300]})\n",
    "pred = model.get_prediction(new_data)\n",
    "result = pred.summary_frame(alpha=0.1)\n",
    "print('10. 예측값의 신뢰구간과 예측구간:\\n', result)\n",
    "\n",
    "# 11. 광고비는 배달 주문량에 영향을 주는지 가설 검정\n",
    "cond = model.pvalues['광고비'] < 0.05\n",
    "if cond:\n",
    "    result = '기각'\n",
    "else:\n",
    "    result = '채택'\n",
    "print('11. 귀무가설', result)\n",
    "\n",
    "# 선형 회귀 모델의 요약 결과\n",
    "print(model.summary())"
   ]
  },
  {
   "cell_type": "markdown",
   "metadata": {
    "id": "qn6BR7CQrUVt"
   },
   "source": [
    "### Section9."
   ]
  },
  {
   "cell_type": "code",
   "execution_count": 19,
   "metadata": {
    "colab": {
     "base_uri": "https://localhost:8080/",
     "height": 206
    },
    "executionInfo": {
     "elapsed": 233,
     "status": "ok",
     "timestamp": 1742217845344,
     "user": {
      "displayName": "Tae Heon Kim",
      "userId": "07653788752262629837"
     },
     "user_tz": -540
    },
    "id": "k1Czox3XGc2_",
    "outputId": "48003ca9-e33d-4a6c-9fda-3ecf3d9d8a57"
   },
   "outputs": [
    {
     "data": {
      "application/vnd.google.colaboratory.intrinsic+json": {
       "summary": "{\n  \"name\": \"df\",\n  \"rows\": 800,\n  \"fields\": [\n    {\n      \"column\": \"age\",\n      \"properties\": {\n        \"dtype\": \"number\",\n        \"std\": 3,\n        \"min\": 27,\n        \"max\": 38,\n        \"num_unique_values\": 11,\n        \"samples\": [\n          28,\n          34,\n          33\n        ],\n        \"semantic_type\": \"\",\n        \"description\": \"\"\n      }\n    },\n    {\n      \"column\": \"service\",\n      \"properties\": {\n        \"dtype\": \"number\",\n        \"std\": 1,\n        \"min\": 1,\n        \"max\": 6,\n        \"num_unique_values\": 6,\n        \"samples\": [\n          6,\n          5,\n          4\n        ],\n        \"semantic_type\": \"\",\n        \"description\": \"\"\n      }\n    },\n    {\n      \"column\": \"social\",\n      \"properties\": {\n        \"dtype\": \"number\",\n        \"std\": 0,\n        \"min\": 0,\n        \"max\": 1,\n        \"num_unique_values\": 2,\n        \"samples\": [\n          1,\n          0\n        ],\n        \"semantic_type\": \"\",\n        \"description\": \"\"\n      }\n    },\n    {\n      \"column\": \"booked\",\n      \"properties\": {\n        \"dtype\": \"number\",\n        \"std\": 0,\n        \"min\": 0,\n        \"max\": 1,\n        \"num_unique_values\": 2,\n        \"samples\": [\n          0,\n          1\n        ],\n        \"semantic_type\": \"\",\n        \"description\": \"\"\n      }\n    },\n    {\n      \"column\": \"target\",\n      \"properties\": {\n        \"dtype\": \"number\",\n        \"std\": 0,\n        \"min\": 0,\n        \"max\": 1,\n        \"num_unique_values\": 2,\n        \"samples\": [\n          1,\n          0\n        ],\n        \"semantic_type\": \"\",\n        \"description\": \"\"\n      }\n    }\n  ]\n}",
       "type": "dataframe",
       "variable_name": "df"
      },
      "text/html": [
       "\n",
       "  <div id=\"df-436783af-f076-4555-8dfc-3b6d987fa275\" class=\"colab-df-container\">\n",
       "    <div>\n",
       "<style scoped>\n",
       "    .dataframe tbody tr th:only-of-type {\n",
       "        vertical-align: middle;\n",
       "    }\n",
       "\n",
       "    .dataframe tbody tr th {\n",
       "        vertical-align: top;\n",
       "    }\n",
       "\n",
       "    .dataframe thead th {\n",
       "        text-align: right;\n",
       "    }\n",
       "</style>\n",
       "<table border=\"1\" class=\"dataframe\">\n",
       "  <thead>\n",
       "    <tr style=\"text-align: right;\">\n",
       "      <th></th>\n",
       "      <th>age</th>\n",
       "      <th>service</th>\n",
       "      <th>social</th>\n",
       "      <th>booked</th>\n",
       "      <th>target</th>\n",
       "    </tr>\n",
       "  </thead>\n",
       "  <tbody>\n",
       "    <tr>\n",
       "      <th>0</th>\n",
       "      <td>34</td>\n",
       "      <td>6</td>\n",
       "      <td>0</td>\n",
       "      <td>1</td>\n",
       "      <td>0</td>\n",
       "    </tr>\n",
       "    <tr>\n",
       "      <th>1</th>\n",
       "      <td>34</td>\n",
       "      <td>5</td>\n",
       "      <td>1</td>\n",
       "      <td>0</td>\n",
       "      <td>1</td>\n",
       "    </tr>\n",
       "    <tr>\n",
       "      <th>2</th>\n",
       "      <td>37</td>\n",
       "      <td>3</td>\n",
       "      <td>1</td>\n",
       "      <td>0</td>\n",
       "      <td>0</td>\n",
       "    </tr>\n",
       "    <tr>\n",
       "      <th>3</th>\n",
       "      <td>30</td>\n",
       "      <td>2</td>\n",
       "      <td>0</td>\n",
       "      <td>0</td>\n",
       "      <td>0</td>\n",
       "    </tr>\n",
       "    <tr>\n",
       "      <th>4</th>\n",
       "      <td>30</td>\n",
       "      <td>1</td>\n",
       "      <td>0</td>\n",
       "      <td>0</td>\n",
       "      <td>0</td>\n",
       "    </tr>\n",
       "  </tbody>\n",
       "</table>\n",
       "</div>\n",
       "    <div class=\"colab-df-buttons\">\n",
       "\n",
       "  <div class=\"colab-df-container\">\n",
       "    <button class=\"colab-df-convert\" onclick=\"convertToInteractive('df-436783af-f076-4555-8dfc-3b6d987fa275')\"\n",
       "            title=\"Convert this dataframe to an interactive table.\"\n",
       "            style=\"display:none;\">\n",
       "\n",
       "  <svg xmlns=\"http://www.w3.org/2000/svg\" height=\"24px\" viewBox=\"0 -960 960 960\">\n",
       "    <path d=\"M120-120v-720h720v720H120Zm60-500h600v-160H180v160Zm220 220h160v-160H400v160Zm0 220h160v-160H400v160ZM180-400h160v-160H180v160Zm440 0h160v-160H620v160ZM180-180h160v-160H180v160Zm440 0h160v-160H620v160Z\"/>\n",
       "  </svg>\n",
       "    </button>\n",
       "\n",
       "  <style>\n",
       "    .colab-df-container {\n",
       "      display:flex;\n",
       "      gap: 12px;\n",
       "    }\n",
       "\n",
       "    .colab-df-convert {\n",
       "      background-color: #E8F0FE;\n",
       "      border: none;\n",
       "      border-radius: 50%;\n",
       "      cursor: pointer;\n",
       "      display: none;\n",
       "      fill: #1967D2;\n",
       "      height: 32px;\n",
       "      padding: 0 0 0 0;\n",
       "      width: 32px;\n",
       "    }\n",
       "\n",
       "    .colab-df-convert:hover {\n",
       "      background-color: #E2EBFA;\n",
       "      box-shadow: 0px 1px 2px rgba(60, 64, 67, 0.3), 0px 1px 3px 1px rgba(60, 64, 67, 0.15);\n",
       "      fill: #174EA6;\n",
       "    }\n",
       "\n",
       "    .colab-df-buttons div {\n",
       "      margin-bottom: 4px;\n",
       "    }\n",
       "\n",
       "    [theme=dark] .colab-df-convert {\n",
       "      background-color: #3B4455;\n",
       "      fill: #D2E3FC;\n",
       "    }\n",
       "\n",
       "    [theme=dark] .colab-df-convert:hover {\n",
       "      background-color: #434B5C;\n",
       "      box-shadow: 0px 1px 3px 1px rgba(0, 0, 0, 0.15);\n",
       "      filter: drop-shadow(0px 1px 2px rgba(0, 0, 0, 0.3));\n",
       "      fill: #FFFFFF;\n",
       "    }\n",
       "  </style>\n",
       "\n",
       "    <script>\n",
       "      const buttonEl =\n",
       "        document.querySelector('#df-436783af-f076-4555-8dfc-3b6d987fa275 button.colab-df-convert');\n",
       "      buttonEl.style.display =\n",
       "        google.colab.kernel.accessAllowed ? 'block' : 'none';\n",
       "\n",
       "      async function convertToInteractive(key) {\n",
       "        const element = document.querySelector('#df-436783af-f076-4555-8dfc-3b6d987fa275');\n",
       "        const dataTable =\n",
       "          await google.colab.kernel.invokeFunction('convertToInteractive',\n",
       "                                                    [key], {});\n",
       "        if (!dataTable) return;\n",
       "\n",
       "        const docLinkHtml = 'Like what you see? Visit the ' +\n",
       "          '<a target=\"_blank\" href=https://colab.research.google.com/notebooks/data_table.ipynb>data table notebook</a>'\n",
       "          + ' to learn more about interactive tables.';\n",
       "        element.innerHTML = '';\n",
       "        dataTable['output_type'] = 'display_data';\n",
       "        await google.colab.output.renderOutput(dataTable, element);\n",
       "        const docLink = document.createElement('div');\n",
       "        docLink.innerHTML = docLinkHtml;\n",
       "        element.appendChild(docLink);\n",
       "      }\n",
       "    </script>\n",
       "  </div>\n",
       "\n",
       "\n",
       "<div id=\"df-e0f9381a-0f33-4d7d-9ad6-e6adfd3feffb\">\n",
       "  <button class=\"colab-df-quickchart\" onclick=\"quickchart('df-e0f9381a-0f33-4d7d-9ad6-e6adfd3feffb')\"\n",
       "            title=\"Suggest charts\"\n",
       "            style=\"display:none;\">\n",
       "\n",
       "<svg xmlns=\"http://www.w3.org/2000/svg\" height=\"24px\"viewBox=\"0 0 24 24\"\n",
       "     width=\"24px\">\n",
       "    <g>\n",
       "        <path d=\"M19 3H5c-1.1 0-2 .9-2 2v14c0 1.1.9 2 2 2h14c1.1 0 2-.9 2-2V5c0-1.1-.9-2-2-2zM9 17H7v-7h2v7zm4 0h-2V7h2v10zm4 0h-2v-4h2v4z\"/>\n",
       "    </g>\n",
       "</svg>\n",
       "  </button>\n",
       "\n",
       "<style>\n",
       "  .colab-df-quickchart {\n",
       "      --bg-color: #E8F0FE;\n",
       "      --fill-color: #1967D2;\n",
       "      --hover-bg-color: #E2EBFA;\n",
       "      --hover-fill-color: #174EA6;\n",
       "      --disabled-fill-color: #AAA;\n",
       "      --disabled-bg-color: #DDD;\n",
       "  }\n",
       "\n",
       "  [theme=dark] .colab-df-quickchart {\n",
       "      --bg-color: #3B4455;\n",
       "      --fill-color: #D2E3FC;\n",
       "      --hover-bg-color: #434B5C;\n",
       "      --hover-fill-color: #FFFFFF;\n",
       "      --disabled-bg-color: #3B4455;\n",
       "      --disabled-fill-color: #666;\n",
       "  }\n",
       "\n",
       "  .colab-df-quickchart {\n",
       "    background-color: var(--bg-color);\n",
       "    border: none;\n",
       "    border-radius: 50%;\n",
       "    cursor: pointer;\n",
       "    display: none;\n",
       "    fill: var(--fill-color);\n",
       "    height: 32px;\n",
       "    padding: 0;\n",
       "    width: 32px;\n",
       "  }\n",
       "\n",
       "  .colab-df-quickchart:hover {\n",
       "    background-color: var(--hover-bg-color);\n",
       "    box-shadow: 0 1px 2px rgba(60, 64, 67, 0.3), 0 1px 3px 1px rgba(60, 64, 67, 0.15);\n",
       "    fill: var(--button-hover-fill-color);\n",
       "  }\n",
       "\n",
       "  .colab-df-quickchart-complete:disabled,\n",
       "  .colab-df-quickchart-complete:disabled:hover {\n",
       "    background-color: var(--disabled-bg-color);\n",
       "    fill: var(--disabled-fill-color);\n",
       "    box-shadow: none;\n",
       "  }\n",
       "\n",
       "  .colab-df-spinner {\n",
       "    border: 2px solid var(--fill-color);\n",
       "    border-color: transparent;\n",
       "    border-bottom-color: var(--fill-color);\n",
       "    animation:\n",
       "      spin 1s steps(1) infinite;\n",
       "  }\n",
       "\n",
       "  @keyframes spin {\n",
       "    0% {\n",
       "      border-color: transparent;\n",
       "      border-bottom-color: var(--fill-color);\n",
       "      border-left-color: var(--fill-color);\n",
       "    }\n",
       "    20% {\n",
       "      border-color: transparent;\n",
       "      border-left-color: var(--fill-color);\n",
       "      border-top-color: var(--fill-color);\n",
       "    }\n",
       "    30% {\n",
       "      border-color: transparent;\n",
       "      border-left-color: var(--fill-color);\n",
       "      border-top-color: var(--fill-color);\n",
       "      border-right-color: var(--fill-color);\n",
       "    }\n",
       "    40% {\n",
       "      border-color: transparent;\n",
       "      border-right-color: var(--fill-color);\n",
       "      border-top-color: var(--fill-color);\n",
       "    }\n",
       "    60% {\n",
       "      border-color: transparent;\n",
       "      border-right-color: var(--fill-color);\n",
       "    }\n",
       "    80% {\n",
       "      border-color: transparent;\n",
       "      border-right-color: var(--fill-color);\n",
       "      border-bottom-color: var(--fill-color);\n",
       "    }\n",
       "    90% {\n",
       "      border-color: transparent;\n",
       "      border-bottom-color: var(--fill-color);\n",
       "    }\n",
       "  }\n",
       "</style>\n",
       "\n",
       "  <script>\n",
       "    async function quickchart(key) {\n",
       "      const quickchartButtonEl =\n",
       "        document.querySelector('#' + key + ' button');\n",
       "      quickchartButtonEl.disabled = true;  // To prevent multiple clicks.\n",
       "      quickchartButtonEl.classList.add('colab-df-spinner');\n",
       "      try {\n",
       "        const charts = await google.colab.kernel.invokeFunction(\n",
       "            'suggestCharts', [key], {});\n",
       "      } catch (error) {\n",
       "        console.error('Error during call to suggestCharts:', error);\n",
       "      }\n",
       "      quickchartButtonEl.classList.remove('colab-df-spinner');\n",
       "      quickchartButtonEl.classList.add('colab-df-quickchart-complete');\n",
       "    }\n",
       "    (() => {\n",
       "      let quickchartButtonEl =\n",
       "        document.querySelector('#df-e0f9381a-0f33-4d7d-9ad6-e6adfd3feffb button');\n",
       "      quickchartButtonEl.style.display =\n",
       "        google.colab.kernel.accessAllowed ? 'block' : 'none';\n",
       "    })();\n",
       "  </script>\n",
       "</div>\n",
       "\n",
       "    </div>\n",
       "  </div>\n"
      ],
      "text/plain": [
       "   age  service  social  booked  target\n",
       "0   34        6       0       1       0\n",
       "1   34        5       1       0       1\n",
       "2   37        3       1       0       0\n",
       "3   30        2       0       0       0\n",
       "4   30        1       0       0       0"
      ]
     },
     "execution_count": 19,
     "metadata": {},
     "output_type": "execute_result"
    }
   ],
   "source": [
    "import pandas as pd\n",
    "\n",
    "# df = pd.read_csv(\"customer_travel.csv\")\n",
    "df = pd.read_csv(\n",
    "    'https://raw.githubusercontent.com/lovedlim/bigdata_analyst_cert/refs/heads/main/part3/ch6/customer_travel.csv'\n",
    ")\n",
    "\n",
    "df.head()"
   ]
  },
  {
   "cell_type": "code",
   "execution_count": 20,
   "metadata": {
    "colab": {
     "base_uri": "https://localhost:8080/"
    },
    "executionInfo": {
     "elapsed": 4,
     "status": "ok",
     "timestamp": 1742217845397,
     "user": {
      "displayName": "Tae Heon Kim",
      "userId": "07653788752262629837"
     },
     "user_tz": -540
    },
    "id": "sD8jhX-UUeSx",
    "outputId": "3ea39b6c-d371-4c17-b093-2c5ce77ccfdb"
   },
   "outputs": [
    {
     "data": {
      "text/plain": [
       "((400, 5), (400, 5))"
      ]
     },
     "execution_count": 20,
     "metadata": {},
     "output_type": "execute_result"
    }
   ],
   "source": [
    "# 데이터 분할\n",
    "midpoint = len(df) // 2  # 몫(정수)\n",
    "a = df.iloc[:midpoint]\n",
    "b = df.iloc[midpoint:]\n",
    "\n",
    "# 데이터 확인\n",
    "a.shape, b.shape"
   ]
  },
  {
   "cell_type": "code",
   "execution_count": 21,
   "metadata": {
    "colab": {
     "base_uri": "https://localhost:8080/"
    },
    "executionInfo": {
     "elapsed": 764,
     "status": "ok",
     "timestamp": 1742217846162,
     "user": {
      "displayName": "Tae Heon Kim",
      "userId": "07653788752262629837"
     },
     "user_tz": -540
    },
    "id": "vh_eEb_MGky6",
    "outputId": "1ad7ad9b-035f-40c0-c6a3-9a0904a2e0b8"
   },
   "outputs": [
    {
     "name": "stdout",
     "output_type": "stream",
     "text": [
      "Optimization terminated successfully.\n",
      "         Current function value: 0.527521\n",
      "         Iterations 6\n",
      "1. 2\n",
      "Optimization terminated successfully.\n",
      "         Current function value: 0.528581\n",
      "         Iterations 6\n",
      "2. age\n",
      "3. booked\n",
      "4. -211.4323825144558\n",
      "5. 422.8647650289116\n",
      "6. 0.058533122917711476\n",
      "7. 1.409468270586192\n",
      "8. 0.765\n",
      "9. 0.235\n"
     ]
    }
   ],
   "source": [
    "# 1) 유의하지 않은 독립변수의 개수\n",
    "from statsmodels.formula.api import logit\n",
    "\n",
    "formula = 'target ~ age + service + social + booked'\n",
    "model = logit(formula, data=a).fit()\n",
    "# print(model.summary())\n",
    "print('1.', sum(model.pvalues[1:] >= 0.05))  # 상수항(Intercept) 제외\n",
    "\n",
    "# 2. 수정된 모델에서 가장 큰 p-value를 가진 변수의 이름\n",
    "formula = 'target ~ age + booked'\n",
    "model = logit(formula, data=a).fit()\n",
    "# print(model.summary())\n",
    "print('2.', model.pvalues[1:].idxmax())  # 상수항(Intercept) 제외\n",
    "\n",
    "# 3. 수정된 모델에서 독립변수 중 절댓값이 가장 큰 회귀계수를 가진 변수의 이름\n",
    "print('3.', model.params[1:].abs().idxmax())\n",
    "\n",
    "# 4. 로그 우도\n",
    "print('4.', model.llf)\n",
    "\n",
    "# 5. 잔차이탈도\n",
    "print('5.', -2 * model.llf)\n",
    "\n",
    "# 6. 'booked' 변수가 3 증가할 때 오즈비\n",
    "import numpy as np\n",
    "\n",
    "print('6.', np.exp(model.params['booked'] * 3))\n",
    "\n",
    "# 7. p-value가 0.05보다 작은 회귀계수의 총합\n",
    "print('7.', model.params[model.pvalues < 0.05].sum())  # 상수항(절편)도 포함\n",
    "\n",
    "# 8. 정확도\n",
    "pred = model.predict(b)\n",
    "pred = (pred > 0.5).astype(int)\n",
    "from sklearn.metrics import accuracy_score\n",
    "\n",
    "accuracy = accuracy_score(b['target'], pred)\n",
    "print('8.', accuracy)\n",
    "\n",
    "# 9. 오류율\n",
    "error_rate = 1 - accuracy\n",
    "error_rate\n",
    "print('9.', error_rate)"
   ]
  },
  {
   "cell_type": "code",
   "execution_count": 21,
   "metadata": {
    "executionInfo": {
     "elapsed": 5,
     "status": "ok",
     "timestamp": 1742217846170,
     "user": {
      "displayName": "Tae Heon Kim",
      "userId": "07653788752262629837"
     },
     "user_tz": -540
    },
    "id": "m2OmKnfoImIf"
   },
   "outputs": [],
   "source": []
  }
 ],
 "metadata": {
  "colab": {
   "provenance": []
  },
  "kernelspec": {
   "display_name": "Python 3",
   "name": "python3"
  },
  "language_info": {
   "name": "python"
  }
 },
 "nbformat": 4,
 "nbformat_minor": 0
}
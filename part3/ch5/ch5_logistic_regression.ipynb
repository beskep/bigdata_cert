{
 "cells": [
  {
   "cell_type": "markdown",
   "metadata": {
    "id": "nFYUmBR9hu_R"
   },
   "source": [
    "[구글 코랩(Colab)에서 실행하기](https://colab.research.google.com/github/lovedlim/bigdata_analyst_cert_v2/blob/main/part3/ch5/ch5_logistic_regression.ipynb)"
   ]
  },
  {
   "cell_type": "markdown",
   "metadata": {
    "id": "FwzB2swKZo2j"
   },
   "source": [
    "# 로지스틱 회귀분석"
   ]
  },
  {
   "cell_type": "code",
   "execution_count": 6,
   "metadata": {
    "colab": {
     "base_uri": "https://localhost:8080/"
    },
    "executionInfo": {
     "elapsed": 63,
     "status": "ok",
     "timestamp": 1742181521311,
     "user": {
      "displayName": "Tae Heon Kim",
      "userId": "07653788752262629837"
     },
     "user_tz": -540
    },
    "id": "JuSKhrlWfVaI",
    "outputId": "a001b8ec-4258-4070-99f9-56e2af28f5f2"
   },
   "outputs": [
    {
     "name": "stdout",
     "output_type": "stream",
     "text": [
      "   age        bmi  smoker  activity_level  disease\n",
      "0   62  35.179089       0               0        1\n",
      "1   65  18.576042       0               2        1\n",
      "2   71  33.178426       0               1        1\n",
      "3   18  37.063007       1               2        0\n",
      "4   21  17.613266       0               0        0\n"
     ]
    }
   ],
   "source": [
    "import pandas as pd\n",
    "\n",
    "# df = pd.read_csv(\"health_survey.csv\")\n",
    "df = pd.read_csv(\n",
    "    'https://raw.githubusercontent.com/lovedlim/bigdata_analyst_cert/main/part3/ch5/health_survey.csv'\n",
    ")\n",
    "\n",
    "print(df.head())"
   ]
  },
  {
   "cell_type": "code",
   "execution_count": 7,
   "metadata": {
    "colab": {
     "base_uri": "https://localhost:8080/"
    },
    "executionInfo": {
     "elapsed": 35,
     "status": "ok",
     "timestamp": 1742181521362,
     "user": {
      "displayName": "Tae Heon Kim",
      "userId": "07653788752262629837"
     },
     "user_tz": -540
    },
    "id": "y00i8apYgU5b",
    "outputId": "64e0ebe3-1919-47b3-e246-85a9e83eb505"
   },
   "outputs": [
    {
     "name": "stdout",
     "output_type": "stream",
     "text": [
      "Optimization terminated successfully.\n",
      "         Current function value: 0.643725\n",
      "         Iterations 5\n",
      "                           Logit Regression Results                           \n",
      "==============================================================================\n",
      "Dep. Variable:                disease   No. Observations:                 1000\n",
      "Model:                          Logit   Df Residuals:                      997\n",
      "Method:                           MLE   Df Model:                            2\n",
      "Date:                Mon, 17 Mar 2025   Pseudo R-squ.:                 0.04996\n",
      "Time:                        03:18:41   Log-Likelihood:                -643.72\n",
      "converged:                       True   LL-Null:                       -677.58\n",
      "Covariance Type:            nonrobust   LLR p-value:                 1.984e-15\n",
      "==============================================================================\n",
      "                 coef    std err          z      P>|z|      [0.025      0.975]\n",
      "------------------------------------------------------------------------------\n",
      "Intercept     -1.8700      0.289     -6.482      0.000      -2.435      -1.305\n",
      "age            0.0177      0.004      4.747      0.000       0.010       0.025\n",
      "bmi            0.0563      0.009      6.418      0.000       0.039       0.074\n",
      "==============================================================================\n"
     ]
    }
   ],
   "source": [
    "from statsmodels.formula.api import logit\n",
    "\n",
    "model = logit('disease ~ age + bmi', data=df).fit()\n",
    "print(model.summary())"
   ]
  },
  {
   "cell_type": "code",
   "execution_count": 8,
   "metadata": {
    "colab": {
     "base_uri": "https://localhost:8080/"
    },
    "executionInfo": {
     "elapsed": 9,
     "status": "ok",
     "timestamp": 1742181521375,
     "user": {
      "displayName": "Tae Heon Kim",
      "userId": "07653788752262629837"
     },
     "user_tz": -540
    },
    "id": "WBltnh1-gU8M",
    "outputId": "c0734c7d-948a-4451-8cab-52d1c43aafc6"
   },
   "outputs": [
    {
     "name": "stdout",
     "output_type": "stream",
     "text": [
      "0.056333879687088535\n",
      "1.057950853075076\n"
     ]
    }
   ],
   "source": [
    "import numpy as np\n",
    "\n",
    "print(model.params['bmi'])\n",
    "print(np.exp(model.params['bmi']))"
   ]
  },
  {
   "cell_type": "code",
   "execution_count": 9,
   "metadata": {
    "colab": {
     "base_uri": "https://localhost:8080/"
    },
    "executionInfo": {
     "elapsed": 16,
     "status": "ok",
     "timestamp": 1742181521394,
     "user": {
      "displayName": "Tae Heon Kim",
      "userId": "07653788752262629837"
     },
     "user_tz": -540
    },
    "id": "_icMMT0zfOan",
    "outputId": "7180f205-dd65-4d47-993e-2f6c7b4c6671"
   },
   "outputs": [
    {
     "name": "stdout",
     "output_type": "stream",
     "text": [
      "-643.7246164682088\n"
     ]
    }
   ],
   "source": [
    "print(model.llf)"
   ]
  },
  {
   "cell_type": "code",
   "execution_count": 10,
   "metadata": {
    "colab": {
     "base_uri": "https://localhost:8080/"
    },
    "executionInfo": {
     "elapsed": 14,
     "status": "ok",
     "timestamp": 1742181521412,
     "user": {
      "displayName": "Tae Heon Kim",
      "userId": "07653788752262629837"
     },
     "user_tz": -540
    },
    "id": "Xl9ltoyZfYW6",
    "outputId": "c2ecb029-1bdd-42e2-87a2-6c284dd64354"
   },
   "outputs": [
    {
     "name": "stdout",
     "output_type": "stream",
     "text": [
      "1287.4492329364175\n"
     ]
    }
   ],
   "source": [
    "print(-2 * model.llf)"
   ]
  }
 ],
 "metadata": {
  "colab": {
   "provenance": []
  },
  "kernelspec": {
   "display_name": "Python 3",
   "name": "python3"
  },
  "language_info": {
   "name": "python"
  }
 },
 "nbformat": 4,
 "nbformat_minor": 0
}